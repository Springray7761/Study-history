{
  "cells": [
    {
      "cell_type": "code",
      "execution_count": null,
      "metadata": {
        "colab": {
          "base_uri": "https://localhost:8080/"
        },
        "id": "Kxsyndf9e0Ud",
        "outputId": "8704399c-d897-4ee4-d88d-d87f33e51651"
      },
      "outputs": [
        {
          "name": "stdout",
          "output_type": "stream",
          "text": [
            "Overwriting hello.cpp\n"
          ]
        }
      ],
      "source": [
        "%%writefile hello.cpp\n",
        "#include<iostream>\n",
        "#include<cmath>\n",
        "using namespace std;\n",
        "bool isPrime(int number){\n",
        "  int counter=0;\n",
        "  for(int i=1;i<number;i++)\n",
        "    if(number%i==0) counter++;\n",
        "  if(counter==1) return true;\n",
        "  else return false;\n",
        "}\n",
        "int main(){\n",
        "  int number;\n",
        "\n",
        "  cout<<\"Please input a positive interger:\";\n",
        "  cin>>number;\n",
        "  cout<<\"Prime factors:\";\n",
        "  for(int i=2;i<number;i++)\n",
        "    if(number%i==0&&isPrime(i)) cout<<' '<<i;\n",
        "  return 0;\n",
        "}"
      ]
    },
    {
      "cell_type": "code",
      "execution_count": null,
      "metadata": {
        "colab": {
          "base_uri": "https://localhost:8080/"
        },
        "id": "mw3SE2jZe7T6",
        "outputId": "1169e53b-7f06-43cf-aa07-d041bf7b6068"
      },
      "outputs": [
        {
          "name": "stdout",
          "output_type": "stream",
          "text": [
            "Please input a positive interger:21\n",
            "Prime factors: 3 7"
          ]
        },
        {
          "data": {
            "text/plain": []
          },
          "execution_count": 21,
          "metadata": {},
          "output_type": "execute_result"
        }
      ],
      "source": [
        "%%shell\n",
        "g++ hello.cpp -o hello\n",
        "./hello"
      ]
    },
    {
      "cell_type": "code",
      "execution_count": 32,
      "metadata": {
        "colab": {
          "base_uri": "https://localhost:8080/"
        },
        "id": "1LmMFnGHnsO3",
        "outputId": "19a108ed-75bf-49c0-c5df-66148d2be107"
      },
      "outputs": [
        {
          "output_type": "stream",
          "name": "stdout",
          "text": [
            "Overwriting hello.cpp\n"
          ]
        }
      ],
      "source": [
        "%%writefile hello.cpp\n",
        "#include<iostream>\n",
        "using namespace std;\n",
        "int factorial(int x){\n",
        "  int i=1;\n",
        "  for(int y=1;y<=x;y++)\n",
        "    i*=y;\n",
        "  return i;\n",
        "}\n",
        "int combination(int x,int y){\n",
        "  return factorial(x)/(factorial(y)*factorial(x-y));\n",
        "}\n",
        "int main(){\n",
        "  int number1,number2;\n",
        "  cout<<\"Please input n and m for C(n, m): \";\n",
        "  cin>>number1>>number2;\n",
        "  cout<<\"C(\"<<number1<<\", \"<<number2<<\")=\"<<combination(number1,number2)<<endl;\n",
        "  return 0;\n",
        "}"
      ]
    },
    {
      "cell_type": "code",
      "execution_count": 33,
      "metadata": {
        "id": "bqyxPb2Gns0j",
        "colab": {
          "base_uri": "https://localhost:8080/"
        },
        "outputId": "a21c1ca7-156e-4592-efc3-f89d0152c6aa"
      },
      "outputs": [
        {
          "output_type": "stream",
          "name": "stdout",
          "text": [
            "Please input n and m for C(n, m): 12 5\n",
            "C(12, 5)=792\n"
          ]
        },
        {
          "output_type": "execute_result",
          "data": {
            "text/plain": []
          },
          "metadata": {},
          "execution_count": 33
        }
      ],
      "source": [
        "%%shell\n",
        "g++ hello.cpp -o hello\n",
        "./hello"
      ]
    }
  ],
  "metadata": {
    "colab": {
      "provenance": []
    },
    "kernelspec": {
      "display_name": "Python 3",
      "name": "python3"
    },
    "language_info": {
      "name": "python"
    }
  },
  "nbformat": 4,
  "nbformat_minor": 0
}