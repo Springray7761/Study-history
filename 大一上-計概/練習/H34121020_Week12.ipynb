{
  "nbformat": 4,
  "nbformat_minor": 0,
  "metadata": {
    "colab": {
      "provenance": []
    },
    "kernelspec": {
      "name": "python3",
      "display_name": "Python 3"
    },
    "language_info": {
      "name": "python"
    }
  },
  "cells": [
    {
      "cell_type": "code",
      "execution_count": 37,
      "metadata": {
        "colab": {
          "base_uri": "https://localhost:8080/"
        },
        "id": "GCSwRqjRz4DS",
        "outputId": "65bff63b-bca6-46d6-b81c-028181f208b7"
      },
      "outputs": [
        {
          "output_type": "stream",
          "name": "stdout",
          "text": [
            "Overwriting homework.cpp\n"
          ]
        }
      ],
      "source": [
        "%%writefile homework.cpp\n",
        "#include<iostream>\n",
        "#include<ctime>\n",
        "#include<stdlib.h>\n",
        "#include<iomanip>\n",
        "using namespace std;\n",
        "void mySwap(int s[],int i,int j){\n",
        "  int temp=s[i];\n",
        "  s[i]=s[j];\n",
        "  s[j]=temp;\n",
        "}\n",
        "void Bubble_sort(int s[]){\n",
        "  for(int i=0;i<10;i++){\n",
        "    for(int j=0;j<9-i;j++)\n",
        "      if(s[j]>s[j+1])\n",
        "        mySwap(s,j,j+1);\n",
        "  }\n",
        "}\n",
        "int main(){\n",
        "  srand(time(0));\n",
        "  int numbers[10]={};\n",
        "  cout<<\"Ten random numbers:\";\n",
        "  for(int i=0;i<10;i++){\n",
        "    numbers[i]=rand()%1000+1;\n",
        "    cout<<numbers[i]<<' ';\n",
        "  }\n",
        "  cout<<endl;\n",
        "  int time_start=clock();\n",
        "  Bubble_sort(numbers);\n",
        "  cout<<\"It takes \"<<setprecision(1)<<scientific<<(double)(clock()-time_start)/CLOCKS_PER_SEC<<\" secs\"<<endl;\n",
        "  for(int i:numbers)\n",
        "    cout<<i<<' ';\n",
        "  cout<<endl;\n",
        "  return 0;\n",
        "}"
      ]
    },
    {
      "cell_type": "markdown",
      "source": [],
      "metadata": {
        "id": "vD58zfvH3DJe"
      }
    },
    {
      "cell_type": "code",
      "source": [
        "%%shell\n",
        "g++ homework.cpp -o homework\n",
        "./homework"
      ],
      "metadata": {
        "colab": {
          "base_uri": "https://localhost:8080/"
        },
        "id": "gtcPxAQs1tvv",
        "outputId": "665b5951-00f2-491e-b4b9-3901d9d9ca75"
      },
      "execution_count": 38,
      "outputs": [
        {
          "output_type": "stream",
          "name": "stdout",
          "text": [
            "Ten random numbers:323 892 632 353 643 858 157 389 387 317 \n",
            "It takes 1.0e-06 secs\n",
            "157 317 323 353 387 389 632 643 858 892 \n"
          ]
        },
        {
          "output_type": "execute_result",
          "data": {
            "text/plain": []
          },
          "metadata": {},
          "execution_count": 38
        }
      ]
    }
  ]
}