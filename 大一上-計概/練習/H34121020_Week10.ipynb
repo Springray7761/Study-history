{
  "nbformat": 4,
  "nbformat_minor": 0,
  "metadata": {
    "colab": {
      "provenance": []
    },
    "kernelspec": {
      "name": "python3",
      "display_name": "Python 3"
    },
    "language_info": {
      "name": "python"
    }
  },
  "cells": [
    {
      "cell_type": "code",
      "execution_count": 1,
      "metadata": {
        "colab": {
          "base_uri": "https://localhost:8080/"
        },
        "id": "Ad837L77xKbM",
        "outputId": "1e4db246-52d7-4c5a-bc76-a408128dc4c8"
      },
      "outputs": [
        {
          "output_type": "stream",
          "name": "stdout",
          "text": [
            "Writing hello.cpp\n"
          ]
        }
      ],
      "source": [
        "%%writefile hello.cpp\n",
        "#include<iostream>\n",
        "#include<ctime>\n",
        "#include<stdlib.h>\n",
        "using namespace std;\n",
        "\n",
        "\n",
        "int main(){\n",
        "  enum Status {car,goat};\n",
        "  Status doorstatus[3]={goat,goat,goat};\n",
        "  srand(time(0));\n",
        "  int Awin=0,Bwin=0;\n",
        "  for(int i=0;i<=4999;i++){\n",
        "    int selectdoornumber=rand()%3,carlocation=rand()%3;\n",
        "    doorstatus[carlocation]=car;\n",
        "    if(doorstatus[selectdoornumber]==car) Bwin++;\n",
        "    else if(doorstatus[selectdoornumber]!=car)Awin++;\n",
        "    doorstatus[carlocation]=goat;\n",
        "  }\n",
        "  cout<<\"If you do not switch, the prob. of winning is: \"<<Bwin/5000.0<<endl;\n",
        "  cout<<\"If you switch, the prob. of winning is: \"<<Awin/5000.0<<endl;\n",
        "  return 0;\n",
        "}"
      ]
    },
    {
      "cell_type": "code",
      "source": [
        "%%shell\n",
        "g++ hello.cpp -o hello\n",
        "./hello"
      ],
      "metadata": {
        "colab": {
          "base_uri": "https://localhost:8080/"
        },
        "id": "D2DqrC-Kxa3F",
        "outputId": "aa11c46f-32d8-4992-836c-8d8842905702"
      },
      "execution_count": 2,
      "outputs": [
        {
          "output_type": "stream",
          "name": "stdout",
          "text": [
            "If you do not switch, the prob. of winning is: 0.3268\n",
            "If you switch, the prob. of winning is: 0.6732\n"
          ]
        },
        {
          "output_type": "execute_result",
          "data": {
            "text/plain": []
          },
          "metadata": {},
          "execution_count": 2
        }
      ]
    }
  ]
}