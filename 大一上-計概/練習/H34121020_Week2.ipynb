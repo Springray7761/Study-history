{
  "nbformat": 4,
  "nbformat_minor": 0,
  "metadata": {
    "colab": {
      "provenance": []
    },
    "kernelspec": {
      "name": "python3",
      "display_name": "Python 3"
    },
    "language_info": {
      "name": "python"
    }
  },
  "cells": [
    {
      "cell_type": "code",
      "source": [
        "Answer1:"
      ],
      "metadata": {
        "id": "uVC5KeSAFC1L"
      },
      "execution_count": null,
      "outputs": []
    },
    {
      "cell_type": "code",
      "execution_count": 2,
      "metadata": {
        "colab": {
          "base_uri": "https://localhost:8080/"
        },
        "id": "I1vHKnmVEc0T",
        "outputId": "64656ff1-12ed-47ab-9eeb-26a92c1d10e0"
      },
      "outputs": [
        {
          "output_type": "stream",
          "name": "stdout",
          "text": [
            "Overwriting hello.cpp\n"
          ]
        }
      ],
      "source": [
        "%%writefile hello.cpp\n",
        "#include<iostream>\n",
        "using namespace std;\n",
        "int main(){\n",
        "  cout<<\"\\\\n\";\n",
        "  return 0;\n",
        "}"
      ]
    },
    {
      "cell_type": "code",
      "source": [
        "%%shell\n",
        "g++ hello.cpp -o hello\n",
        "./hello"
      ],
      "metadata": {
        "colab": {
          "base_uri": "https://localhost:8080/"
        },
        "id": "dqfpzEpgEz8D",
        "outputId": "61c826a9-fdac-4d3f-8ad0-d7448d6ff17d"
      },
      "execution_count": 4,
      "outputs": [
        {
          "output_type": "stream",
          "name": "stdout",
          "text": [
            "\\n"
          ]
        },
        {
          "output_type": "execute_result",
          "data": {
            "text/plain": []
          },
          "metadata": {},
          "execution_count": 4
        }
      ]
    },
    {
      "cell_type": "markdown",
      "source": [
        "Answer2:"
      ],
      "metadata": {
        "id": "KtqIJuTMFLP2"
      }
    },
    {
      "cell_type": "code",
      "source": [
        "%%writefile hello.cpp\n",
        "#include<iostream>\n",
        "using namespace std;\n",
        "int main(){\n",
        "  return 0;\n",
        "  cout<<\"\\\\n\";\n",
        "}"
      ],
      "metadata": {
        "colab": {
          "base_uri": "https://localhost:8080/"
        },
        "id": "UvmFwgpuFv78",
        "outputId": "7a6610e3-e2b8-4aaf-94a5-78661b164de9"
      },
      "execution_count": 7,
      "outputs": [
        {
          "output_type": "stream",
          "name": "stdout",
          "text": [
            "Overwriting hello.cpp\n"
          ]
        }
      ]
    },
    {
      "cell_type": "code",
      "source": [
        "%%shell\n",
        "g++ hello.cpp -o hello\n",
        "./hello"
      ],
      "metadata": {
        "colab": {
          "base_uri": "https://localhost:8080/"
        },
        "id": "8Aj_SI80F2Sc",
        "outputId": "c8e6688f-8889-4124-97f8-62017f19c554"
      },
      "execution_count": 8,
      "outputs": [
        {
          "output_type": "execute_result",
          "data": {
            "text/plain": []
          },
          "metadata": {},
          "execution_count": 8
        }
      ]
    },
    {
      "cell_type": "markdown",
      "source": [
        "Because return means giving a answer to a fuction.\n",
        "If you put return 0 before cout the fuction\"main\" will get a answer as\"0\".\n",
        "It will stop the fuction from coutinue reading the sentences below,since it alrady got an answer. ."
      ],
      "metadata": {
        "id": "WiE6BO0PFRud"
      }
    },
    {
      "cell_type": "markdown",
      "source": [
        "Answer3:"
      ],
      "metadata": {
        "id": "7OKfC4q3Gsmz"
      }
    },
    {
      "cell_type": "code",
      "source": [
        "%%writefile hello.cpp\n",
        "#include<iostream>\n",
        "using namespace std;\n",
        "int main(){\n",
        "  int number1,number2;\n",
        "  cout<<\"Input the first integer:\";\n",
        "  cin>>number1;\n",
        "  cout<<endl<<\"Input the second integer:\";\n",
        "  cin>>number2;\n",
        "  if(number2>number1){\n",
        "    int a=number1;\n",
        "    number1=number2;\n",
        "    number2=a;\n",
        "  }\n",
        "  cout<<endl<<\"After \"<<number1<<\" is devided by \"<<number2<<\", the remainder is: \"<<number1%number2<<endl;/*除 is actually spell as divided not devided.*/\n",
        "  return 0;\n",
        "}"
      ],
      "metadata": {
        "colab": {
          "base_uri": "https://localhost:8080/"
        },
        "id": "J1nK2KgUGp5-",
        "outputId": "6e4c6df5-08a5-4b3a-c667-f7b23e7bdba8"
      },
      "execution_count": 22,
      "outputs": [
        {
          "output_type": "stream",
          "name": "stdout",
          "text": [
            "Overwriting hello.cpp\n"
          ]
        }
      ]
    },
    {
      "cell_type": "code",
      "source": [
        "%%shell\n",
        "g++ hello.cpp -o hello\n",
        "./hello"
      ],
      "metadata": {
        "colab": {
          "base_uri": "https://localhost:8080/"
        },
        "id": "2vdLBLXAGsGz",
        "outputId": "6dd8b5e6-8f58-484b-c5dc-88c117bbfbe9"
      },
      "execution_count": 19,
      "outputs": [
        {
          "output_type": "stream",
          "name": "stdout",
          "text": [
            "Input the first integer:13\n",
            "\n",
            "Input the second integer:3\n",
            "\n",
            "After 13 is devided by 3, the remainder is: 1\n"
          ]
        },
        {
          "output_type": "execute_result",
          "data": {
            "text/plain": []
          },
          "metadata": {},
          "execution_count": 19
        }
      ]
    }
  ]
}