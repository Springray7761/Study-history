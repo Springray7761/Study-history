{
  "nbformat": 4,
  "nbformat_minor": 0,
  "metadata": {
    "colab": {
      "provenance": []
    },
    "kernelspec": {
      "name": "python3",
      "display_name": "Python 3"
    },
    "language_info": {
      "name": "python"
    }
  },
  "cells": [
    {
      "cell_type": "code",
      "execution_count": 7,
      "metadata": {
        "colab": {
          "base_uri": "https://localhost:8080/"
        },
        "id": "ILZF_6GU-uHd",
        "outputId": "abe65dd1-1b2c-466d-83c5-9ec0e8abffdc"
      },
      "outputs": [
        {
          "output_type": "stream",
          "name": "stdout",
          "text": [
            "Overwriting homework.cpp\n"
          ]
        }
      ],
      "source": [
        "%%writefile homework.cpp\n",
        "#include<iostream>\n",
        "using namespace std;\n",
        "int main(){\n",
        "  int Fn,n=2,Fn_1=1,Fn_2=0;\n",
        "  while(n<=20){\n",
        "    if(n%2==0) Fn_1=Fn_1+Fn_2;\n",
        "    else Fn_2=Fn_1+Fn_2;\n",
        "    cout<<'F'<<n<<'='<<Fn_1+Fn_2<<endl;\n",
        "    n++;\n",
        "  }\n",
        "  return 0;\n",
        "}"
      ]
    },
    {
      "cell_type": "code",
      "source": [
        "%%shell\n",
        "g++ homework.cpp -o homework\n",
        "./homework"
      ],
      "metadata": {
        "colab": {
          "base_uri": "https://localhost:8080/"
        },
        "id": "VOcZNKnr-_Mg",
        "outputId": "46fd51cb-14c3-41ab-f07b-8c56b9f35e93"
      },
      "execution_count": 8,
      "outputs": [
        {
          "output_type": "stream",
          "name": "stdout",
          "text": [
            "F2=1\n",
            "F3=2\n",
            "F4=3\n",
            "F5=5\n",
            "F6=8\n",
            "F7=13\n",
            "F8=21\n",
            "F9=34\n",
            "F10=55\n",
            "F11=89\n",
            "F12=144\n",
            "F13=233\n",
            "F14=377\n",
            "F15=610\n",
            "F16=987\n",
            "F17=1597\n",
            "F18=2584\n",
            "F19=4181\n",
            "F20=6765\n"
          ]
        },
        {
          "output_type": "execute_result",
          "data": {
            "text/plain": []
          },
          "metadata": {},
          "execution_count": 8
        }
      ]
    }
  ]
}