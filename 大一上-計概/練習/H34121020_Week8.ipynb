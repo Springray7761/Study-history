{
  "nbformat": 4,
  "nbformat_minor": 0,
  "metadata": {
    "colab": {
      "provenance": []
    },
    "kernelspec": {
      "name": "python3",
      "display_name": "Python 3"
    },
    "language_info": {
      "name": "python"
    }
  },
  "cells": [
    {
      "cell_type": "code",
      "execution_count": 10,
      "metadata": {
        "id": "MThGB982nJcd",
        "colab": {
          "base_uri": "https://localhost:8080/"
        },
        "outputId": "a1a8b0c4-1f32-4672-bab9-710d4972b1c9"
      },
      "outputs": [
        {
          "output_type": "stream",
          "name": "stdout",
          "text": [
            "Overwriting homework.cpp\n"
          ]
        }
      ],
      "source": [
        "%%writefile homework.cpp\n",
        "#include<iostream>\n",
        "using namespace std;\n",
        "int main(){\n",
        "  srand(time(0));\n",
        "  int gen_number=rand()%100+1,user_input=0;\n",
        "  do{\n",
        "    cout<<\"Input a number between 1 and 100 (inclusive) (Or input -1 to leave):\";\n",
        "    cin>>user_input;\n",
        "    if(user_input>gen_number) cout<<\"Lower\"<<endl;\n",
        "    if(user_input<gen_number&&user_input!=-1) cout<<\"Higher\"<<endl;\n",
        "    if(user_input==gen_number){\n",
        "      cout<<\"You got it, the answer is \"<<user_input<<endl;\n",
        "      break;\n",
        "      }\n",
        "  }while(user_input!=-1);\n",
        "  if(user_input==-1)cout<<\"Bye!\";\n",
        "  return 0;\n",
        "}"
      ]
    },
    {
      "cell_type": "code",
      "source": [
        "%%shell\n",
        "g++ homework.cpp -o homework\n",
        "./homework"
      ],
      "metadata": {
        "colab": {
          "base_uri": "https://localhost:8080/"
        },
        "id": "oVKBFA6ap2hQ",
        "outputId": "84bcca50-d888-4731-f1dc-8cd64f00e6d4"
      },
      "execution_count": 12,
      "outputs": [
        {
          "output_type": "stream",
          "name": "stdout",
          "text": [
            "Input a number between 1 and 100 (inclusive) (Or input -1 to leave):50\n",
            "Higher\n",
            "Input a number between 1 and 100 (inclusive) (Or input -1 to leave):75\n",
            "Lower\n",
            "Input a number between 1 and 100 (inclusive) (Or input -1 to leave):63\n",
            "Lower\n",
            "Input a number between 1 and 100 (inclusive) (Or input -1 to leave):56\n",
            "Lower\n",
            "Input a number between 1 and 100 (inclusive) (Or input -1 to leave):53\n",
            "Higher\n",
            "Input a number between 1 and 100 (inclusive) (Or input -1 to leave):54\n",
            "You got it, the answer is 54\n"
          ]
        },
        {
          "output_type": "execute_result",
          "data": {
            "text/plain": []
          },
          "metadata": {},
          "execution_count": 12
        }
      ]
    }
  ]
}