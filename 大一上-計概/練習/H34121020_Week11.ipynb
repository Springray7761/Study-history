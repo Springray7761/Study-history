{
  "nbformat": 4,
  "nbformat_minor": 0,
  "metadata": {
    "colab": {
      "provenance": []
    },
    "kernelspec": {
      "name": "python3",
      "display_name": "Python 3"
    },
    "language_info": {
      "name": "python"
    }
  },
  "cells": [
    {
      "cell_type": "code",
      "execution_count": 3,
      "metadata": {
        "colab": {
          "base_uri": "https://localhost:8080/"
        },
        "id": "cg7UpSm_swe3",
        "outputId": "1472d704-46f6-40f6-d06c-7a381e91577c"
      },
      "outputs": [
        {
          "output_type": "stream",
          "name": "stdout",
          "text": [
            "Overwriting homework.cpp\n"
          ]
        }
      ],
      "source": [
        "%%writefile homework.cpp\n",
        "#include<iostream>\n",
        "#include<cmath>\n",
        "#include<iomanip>\n",
        "using namespace std;\n",
        "double approxpi(int x){\n",
        "  if(x==-1) return 0;\n",
        "  return 8/pow((2*x+1),2)+approxpi(x-1);                                                                                                                                                                                                                                                                                                                                                                                                                                                                                                                                                                                                                                                                                                                                                                                                                                                                                                                                                                                                                                                                                                                                                                                                                                                                                                                                                                                                                                                                                                                                                                                                                                                                                                                                                                                                                                                                                                                                                                                                                                                                                                                                                                                                                                                                                                                                                                                                                                                                                                                                                                                                                                                                                                                                                                                                                                                                                                                                                                                                                                                                                                                                                                                                                                                                                                                                                                                                                                                                                                                                                                                                                                                                                                                                                                                                                                                                                                                                                                                                                                                                                                                                                                                                                                                                                                                                                                                                                                                                                                                                                                                                                                                                                                                                                                                                                                                                                                                                                                                                                                                                                                                                                                                                                                                                                                                                                                                                                                                                                                                                                                                                                                                                                                                                                                                                                                                                                                                                                                                                                                                                                                                                                                                                                                                                                                                                                                                                                                                                                                                                                                                                                                                                                                                                                                                                                                                                                                                                                                                                                                                                                                                                                                                                                                                                                                                                                                                                                                                                                                                                                                                                                                                                                                                                                                                                                                                                                                                                                                                                                                                                                                                                                                                                                                                                                                                                                                                                                                                                                                                                                                                                                                                                                                                                                                                                                                                                                                                                                                                                                                                                                                                                                                                                                                                                                                                                                                                                                                                                                                                                                                                                                                                                                                                                                                                                                                                                                                                    //  ]/\n",
        "}\n",
        "int main(){\n",
        "  int times;\n",
        "  clock_t timer_start,timer1,timer2;\n",
        "  double counter=0.0;\n",
        "  cout<<\"How many numbers are in the series?:\";\n",
        "  cin>>times;\n",
        "  timer_start=clock();\n",
        "  for(int i=0;i<times;i++){\n",
        "    counter+=8/pow((2*i+1),2);\n",
        "  }\n",
        "  timer1=clock()-timer_start;\n",
        "  cout<<fixed<<setprecision(11);\n",
        "  cout<<\"(iterative) By including \"<<times<<\" numbers in the series, the approximated Pi is \"<<sqrt(counter)<<endl;\n",
        "  cout<<\"It takes \"<<setprecision(1)<<scientific<<(double)timer1/CLOCKS_PER_SEC<<\" secs\"<<endl;\n",
        "  cout<<fixed<<setprecision(11);\n",
        "  timer_start=clock();\n",
        "  cout<<\"(recursive) By including \"<<times<<\" numbers in the series, the approximated Pi is \"<<sqrt(approxpi(times-1))<<endl;\n",
        "  timer2=double(clock()-timer_start);\n",
        "  cout<<\"It takes \"<<setprecision(1)<<scientific<<(double)timer2/CLOCKS_PER_SEC<<\" secs\"<<endl;\n",
        "  return 0;\n",
        "}"
      ]
    },
    {
      "cell_type": "code",
      "source": [
        "%%shell\n",
        "g++ homework.cpp -o homework\n",
        "./homework"
      ],
      "metadata": {
        "colab": {
          "base_uri": "https://localhost:8080/"
        },
        "id": "aVkG_G2Es-ss",
        "outputId": "65e768f7-5d62-417c-a138-180a5afc84f7"
      },
      "execution_count": 4,
      "outputs": [
        {
          "output_type": "stream",
          "name": "stdout",
          "text": [
            "How many numbers are in the series?:500\n",
            "(iterative) By including 500 numbers in the series, the approximated Pi is 3.14095596951\n",
            "It takes 3.2e-05 secs\n",
            "(recursive) By including 500 numbers in the series, the approximated Pi is 3.14095596951\n",
            "It takes 3.1e-05 secs\n"
          ]
        },
        {
          "output_type": "execute_result",
          "data": {
            "text/plain": []
          },
          "metadata": {},
          "execution_count": 4
        }
      ]
    }
  ]
}