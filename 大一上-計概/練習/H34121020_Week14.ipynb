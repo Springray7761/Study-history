{
  "nbformat": 4,
  "nbformat_minor": 0,
  "metadata": {
    "colab": {
      "provenance": []
    },
    "kernelspec": {
      "name": "python3",
      "display_name": "Python 3"
    },
    "language_info": {
      "name": "python"
    }
  },
  "cells": [
    {
      "cell_type": "code",
      "execution_count": 9,
      "metadata": {
        "colab": {
          "base_uri": "https://localhost:8080/"
        },
        "id": "26ZaT3-Wtztp",
        "outputId": "ab2f80a2-5cca-43c3-9864-9100b75ed50c"
      },
      "outputs": [
        {
          "output_type": "stream",
          "name": "stdout",
          "text": [
            "Overwriting homework.cpp\n"
          ]
        }
      ],
      "source": [
        "%%writefile homework.cpp\n",
        "#include<iostream>\n",
        "#include<iomanip>\n",
        "using namespace std;\n",
        "void matrix_print(int** matrix,int size){\n",
        "  for(int i=0;i<size;i++){\n",
        "    for(int j=0;j<size;j++)\n",
        "      cout<<setw(4)<<matrix[i][j]<<' ';\n",
        "    cout<<endl;\n",
        "  }\n",
        "}\n",
        "void matrix_multiplication(int** matrix,int size){\n",
        "  int temp[size][size];\n",
        "  for(int i=0;i<size;i++)\n",
        "    for(int j=0;j<size;j++)\n",
        "      temp[i][j]=matrix[i][j];\n",
        "  for(int i=0;i<size;i++)\n",
        "    for(int j=0;j<size;j++){\n",
        "      for(int a=0;a<size;a++)\n",
        "        matrix[i][j]+=temp[i][a]*temp[a][j];\n",
        "      matrix[i][j]-=temp[i][j];\n",
        "    }\n",
        "}\n",
        "int main(){\n",
        "  cout<<\"Please ente a number n to to build a matrix A: \"<<endl;/* I believe that it's enter,but the sample gave \"ente\"*/\n",
        "  int size=0;\n",
        "  cin>>size;\n",
        "  int **matrix = new int*[size];\n",
        "  for(int i=0;i<size;i++){\n",
        "    matrix[i] = new int[size];\n",
        "    for(int j=0;j<size;j++)\n",
        "      matrix[i][j]=size*i+j+1;\n",
        "  }\n",
        "  matrix_print(matrix,size);\n",
        "  matrix_multiplication(matrix,size);\n",
        "  cout<<\"Matrix A multiplied by it self:\"<<endl;\n",
        "  matrix_print(matrix,size);\n",
        "  return 0;\n",
        "}"
      ]
    },
    {
      "cell_type": "code",
      "source": [
        "%%shell\n",
        "g++ homework.cpp -o homework\n",
        "./homework"
      ],
      "metadata": {
        "colab": {
          "base_uri": "https://localhost:8080/"
        },
        "id": "qNJsgJFZt6Lz",
        "outputId": "be793080-7295-447a-d83d-0550ce8a64da"
      },
      "execution_count": 11,
      "outputs": [
        {
          "output_type": "stream",
          "name": "stdout",
          "text": [
            "Please ente a number n to to build a matrix A: \n",
            "2\n",
            "   1    2 \n",
            "   3    4 \n",
            "Matrix A multiplied by it self:\n",
            "   7   10 \n",
            "  15   22 \n"
          ]
        },
        {
          "output_type": "execute_result",
          "data": {
            "text/plain": []
          },
          "metadata": {},
          "execution_count": 11
        }
      ]
    }
  ]
}