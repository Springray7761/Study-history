{
  "cells": [
    {
      "cell_type": "code",
      "execution_count": 7,
      "metadata": {
        "colab": {
          "base_uri": "https://localhost:8080/"
        },
        "id": "HNMy_VYqfu4_",
        "outputId": "11f7b41a-b683-452f-9ab6-0473211d9d71"
      },
      "outputs": [
        {
          "output_type": "stream",
          "name": "stdout",
          "text": [
            "Overwriting hello.cpp\n"
          ]
        }
      ],
      "source": [
        "%%writefile hello.cpp\n",
        "#include<iostream>\n",
        "#include<cmath>\n",
        "#include<algorithm>\n",
        "using namespace std;\n",
        "int main(){\n",
        "  int number;\n",
        "  vector<int> factor;\n",
        "  cout<<\"Please input a positive interger:\";\n",
        "  cin>>number;\n",
        "  for(int i=2;i<=sqrt(number);i++){\n",
        "    if(i==sqrt(number)){\n",
        "      factor.push_back(i);\n",
        "      break;\n",
        "    }\n",
        "    if(number%i==0){\n",
        "      factor.push_back(i);\n",
        "      factor.push_back(number/i);\n",
        "    }\n",
        "  }\n",
        "  sort(factor.begin(),factor.end());\n",
        "  cout<<\"Factors:\"<<' ';\n",
        "  for(int i=0;i<factor.size();i++) cout<<factor[i]<<' ';\n",
        "  return 0;\n",
        "}"
      ]
    },
    {
      "cell_type": "code",
      "execution_count": 8,
      "metadata": {
        "colab": {
          "base_uri": "https://localhost:8080/"
        },
        "id": "GPYXsKz1f_xl",
        "outputId": "049bc1fc-95fa-42ff-84af-3eb1fa4865d1"
      },
      "outputs": [
        {
          "output_type": "stream",
          "name": "stdout",
          "text": [
            "Please input a positive interger:100\n",
            "Factors: 2 4 5 10 20 25 50 "
          ]
        },
        {
          "output_type": "execute_result",
          "data": {
            "text/plain": []
          },
          "metadata": {},
          "execution_count": 8
        }
      ],
      "source": [
        "%%shell\n",
        "g++ hello.cpp -o hello\n",
        "./hello"
      ]
    },
    {
      "cell_type": "code",
      "execution_count": 11,
      "metadata": {
        "id": "46aLm2aPgGgA",
        "colab": {
          "base_uri": "https://localhost:8080/"
        },
        "outputId": "e0791508-782f-4ebb-d5d4-2bf031a71efa"
      },
      "outputs": [
        {
          "output_type": "stream",
          "name": "stdout",
          "text": [
            "Overwriting hello.cpp\n"
          ]
        }
      ],
      "source": [
        "%%writefile hello.cpp\n",
        "#include<iostream>\n",
        "using namespace std;\n",
        "int main(){\n",
        "  char target;\n",
        "  cout<<\"Please input a alphabet:\";\n",
        "  cin>>target;\n",
        "  if(static_cast<int>(target)<91) target=static_cast<char>(static_cast<int>(target)+32);\n",
        "  else target=static_cast<char>(static_cast<int>(target)-32);\n",
        "  cout<<\"After converting:\"<<target;\n",
        "  return 0;\n",
        "}"
      ]
    },
    {
      "cell_type": "code",
      "execution_count": 14,
      "metadata": {
        "id": "8xupVhyvgG7k",
        "colab": {
          "base_uri": "https://localhost:8080/"
        },
        "outputId": "55161885-e710-4498-9af8-c46b150dca2e"
      },
      "outputs": [
        {
          "output_type": "stream",
          "name": "stdout",
          "text": [
            "Please input a alphabet:A\n",
            "After converting:a"
          ]
        },
        {
          "output_type": "execute_result",
          "data": {
            "text/plain": []
          },
          "metadata": {},
          "execution_count": 14
        }
      ],
      "source": [
        "%%shell\n",
        "g++ hello.cpp -o hello\n",
        "./hello"
      ]
    },
    {
      "cell_type": "code",
      "source": [
        "%%writefile hello.cpp\n",
        "#include<iostream>\n",
        "#include<cmath>\n",
        "#include<algorithm>\n",
        "using namespace std;\n",
        "int main(){\n",
        "  int number;\n",
        "  vector<int> factor;\n",
        "  cout<<\"Please input a positive interger:\";\n",
        "  cin>>number;\n",
        "  for(int i=2;i<=sqrt(number);i++){\n",
        "    bool notprime=false;\n",
        "    for(int j=0;j<factor.size();j++){\n",
        "      if(i%factor[j]==0){\n",
        "        notprime =true;\n",
        "        break;\n",
        "      }\n",
        "    }\n",
        "    if(notprime) continue;\n",
        "    if(i==sqrt(number)){\n",
        "      factor.push_back(i);\n",
        "      break;\n",
        "    }\n",
        "    if(number%i==0){\n",
        "      factor.push_back(i);\n",
        "    }\n",
        "  }\n",
        "  sort(factor.begin(),factor.end());\n",
        "  cout<<\"Prime factors:\"<<' ';\n",
        "  for(int i=0;i<factor.size();i++) cout<<factor[i]<<' ';\n",
        "  return 0;\n",
        "}"
      ],
      "metadata": {
        "colab": {
          "base_uri": "https://localhost:8080/"
        },
        "id": "oqw9FdpNxqwA",
        "outputId": "af52eb08-c023-4b2c-9608-286f0d5c6a70"
      },
      "execution_count": 26,
      "outputs": [
        {
          "output_type": "stream",
          "name": "stdout",
          "text": [
            "Overwriting hello.cpp\n"
          ]
        }
      ]
    },
    {
      "cell_type": "code",
      "source": [
        "%%shell\n",
        "g++ hello.cpp -o hello\n",
        "./hello"
      ],
      "metadata": {
        "colab": {
          "base_uri": "https://localhost:8080/"
        },
        "id": "IIqSB97OxzDn",
        "outputId": "3f6cb824-6129-4b68-f4b0-049ea1828621"
      },
      "execution_count": 27,
      "outputs": [
        {
          "output_type": "stream",
          "name": "stdout",
          "text": [
            "Please input a positive interger:100\n",
            "Prime factors: 2 5 "
          ]
        },
        {
          "output_type": "execute_result",
          "data": {
            "text/plain": []
          },
          "metadata": {},
          "execution_count": 27
        }
      ]
    }
  ],
  "metadata": {
    "colab": {
      "provenance": []
    },
    "kernelspec": {
      "display_name": "Python 3",
      "name": "python3"
    },
    "language_info": {
      "name": "python"
    }
  },
  "nbformat": 4,
  "nbformat_minor": 0
}