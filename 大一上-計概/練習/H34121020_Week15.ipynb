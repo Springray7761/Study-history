{
  "cells": [
    {
      "cell_type": "code",
      "execution_count": null,
      "metadata": {
        "colab": {
          "base_uri": "https://localhost:8080/"
        },
        "id": "eYD8LSton91f",
        "outputId": "c198c20e-7992-4619-9389-69682c8e0e4d"
      },
      "outputs": [
        {
          "name": "stdout",
          "output_type": "stream",
          "text": [
            "Overwriting homework.cpp\n"
          ]
        }
      ],
      "source": [
        "%%writefile homework.cpp\n",
        "#include<iostream>\n",
        "#include<stdlib.h>\n",
        "#include<ctime>\n",
        "using namespace std;\n",
        "int main(){\n",
        "    srand(time(0));\n",
        "    int counter=0;\n",
        "    int* score = new int[4];\n",
        "    for(int i=0;i<4;i++) score[i]=0;\n",
        "    for(int i=0;i<10000000;i++){\n",
        "        counter=0;\n",
        "        for(int j=0;j<471;j++) if(rand()%10==0) counter++;\n",
        "        if(counter<=11) score[0]++;\n",
        "        if(counter<=20) score[1]++;\n",
        "        if(counter<=30) score[2]++;\n",
        "        if(counter<=40) score[3]++;\n",
        "    }\n",
        "    cout<<\"The estimated prob. of winning <=40 items : \"<<(double)score[3]/10000000<<endl;\n",
        "    cout<<\"The estimated prob. of winning <=30 items : \"<<(double)score[2]/10000000<<endl;\n",
        "    cout<<\"The estimated prob. of winning <=20 items : \"<<scientific<<(double)score[1]/10000000<<endl;\n",
        "    cout<<\"The estimated prob. of being unlucky as the streamer (<=11 items) : \"<<(double)score[0]/10000000<<endl;\n",
        "    return 0;\n",
        "}"
      ]
    },
    {
      "cell_type": "code",
      "execution_count": null,
      "metadata": {
        "colab": {
          "background_save": true
        },
        "id": "34_3qwdGoE9m",
        "outputId": "f07e7319-6965-4e0b-ec0b-3b26dcb54f5f"
      },
      "outputs": [
        {
          "name": "stdout",
          "output_type": "stream",
          "text": [
            "The estimated prob. of winning <=40 items : 0.154744\n",
            "The estimated prob. of winning <=30 items : 0.0033463\n",
            "The estimated prob. of winning <=20 items : 1.700000e-06\n",
            "The estimated prob. of being unlucky as the streamer (<=11 items) : 0.000000e+00\n"
          ]
        },
        {
          "data": {
            "text/plain": []
          },
          "execution_count": 44,
          "metadata": {},
          "output_type": "execute_result"
        }
      ],
      "source": [
        "%%shell\n",
        "g++ homework.cpp -o homework\n",
        "./homework"
      ]
    }
  ],
  "metadata": {
    "colab": {
      "provenance": []
    },
    "kernelspec": {
      "display_name": "Python 3",
      "name": "python3"
    },
    "language_info": {
      "name": "python"
    }
  },
  "nbformat": 4,
  "nbformat_minor": 0
}