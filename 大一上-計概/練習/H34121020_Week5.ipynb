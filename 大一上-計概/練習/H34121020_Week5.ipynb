{
  "nbformat": 4,
  "nbformat_minor": 0,
  "metadata": {
    "colab": {
      "provenance": []
    },
    "kernelspec": {
      "name": "python3",
      "display_name": "Python 3"
    },
    "language_info": {
      "name": "python"
    }
  },
  "cells": [
    {
      "cell_type": "code",
      "execution_count": 12,
      "metadata": {
        "colab": {
          "base_uri": "https://localhost:8080/"
        },
        "id": "ieFsnjXCIusz",
        "outputId": "14abee8e-f88a-4da1-9365-09b2174d69c1"
      },
      "outputs": [
        {
          "output_type": "stream",
          "name": "stdout",
          "text": [
            "Overwriting hello.cpp\n"
          ]
        }
      ],
      "source": [
        "%%writefile hello.cpp\n",
        "#include<iostream>\n",
        "using namespace std;\n",
        "int main(){\n",
        "  int counter=0;\n",
        "  cout<<\"Please input the height of your pyramid:\"<<endl;\n",
        "  cin>>counter;\n",
        "  for(int i=0;i<counter;i++){\n",
        "    for(int j=0;j<=i;j++){\n",
        "      cout<<'x';\n",
        "    }\n",
        "    cout<<endl;\n",
        "  }\n",
        "  return 0;\n",
        "}"
      ]
    },
    {
      "cell_type": "code",
      "source": [
        "%%shell\n",
        "g++ hello.cpp -o hello\n",
        "./hello"
      ],
      "metadata": {
        "id": "jxUKki8FZjbQ",
        "colab": {
          "base_uri": "https://localhost:8080/"
        },
        "outputId": "2f709dde-e666-4c9f-db4f-5bab685a70b3"
      },
      "execution_count": 13,
      "outputs": [
        {
          "output_type": "stream",
          "name": "stdout",
          "text": [
            "Please input the height of your pyramid:\n",
            "10\n",
            "x\n",
            "xx\n",
            "xxx\n",
            "xxxx\n",
            "xxxxx\n",
            "xxxxxx\n",
            "xxxxxxx\n",
            "xxxxxxxx\n",
            "xxxxxxxxx\n",
            "xxxxxxxxxx\n"
          ]
        },
        {
          "output_type": "execute_result",
          "data": {
            "text/plain": []
          },
          "metadata": {},
          "execution_count": 13
        }
      ]
    },
    {
      "cell_type": "code",
      "execution_count": 22,
      "metadata": {
        "colab": {
          "base_uri": "https://localhost:8080/"
        },
        "outputId": "045971c9-814d-41a7-b81f-bef4a04e54df",
        "id": "_FzS-Jmp5rYF"
      },
      "outputs": [
        {
          "output_type": "stream",
          "name": "stdout",
          "text": [
            "Overwriting hello.cpp\n"
          ]
        }
      ],
      "source": [
        "%%writefile hello.cpp\n",
        "#include<iostream>\n",
        "using namespace std;\n",
        "int main(){\n",
        "  int counter=0;\n",
        "  cout<<\"Please input the height of your pyramid:\"<<endl;\n",
        "  cin>>counter;\n",
        "  for(int i=0;i<counter;i++){\n",
        "    for(int a=counter-i;a>0;a--){\n",
        "      cout<<' ';\n",
        "    }\n",
        "    for(int j=0;j<=2*i;j++){\n",
        "      cout<<'x';\n",
        "    }\n",
        "    cout<<endl;\n",
        "  }\n",
        "  return 0;\n",
        "}"
      ]
    },
    {
      "cell_type": "code",
      "source": [
        "%%shell\n",
        "g++ hello.cpp -o hello\n",
        "./hello"
      ],
      "metadata": {
        "colab": {
          "base_uri": "https://localhost:8080/"
        },
        "outputId": "f3f3f89e-9792-4fa6-b444-200e798e49c1",
        "id": "IqXrGfCQ5wUK"
      },
      "execution_count": 24,
      "outputs": [
        {
          "output_type": "stream",
          "name": "stdout",
          "text": [
            "Please input the height of your pyramid:\n",
            "10\n",
            "          x\n",
            "         xxx\n",
            "        xxxxx\n",
            "       xxxxxxx\n",
            "      xxxxxxxxx\n",
            "     xxxxxxxxxxx\n",
            "    xxxxxxxxxxxxx\n",
            "   xxxxxxxxxxxxxxx\n",
            "  xxxxxxxxxxxxxxxxx\n",
            " xxxxxxxxxxxxxxxxxxx\n"
          ]
        },
        {
          "output_type": "execute_result",
          "data": {
            "text/plain": []
          },
          "metadata": {},
          "execution_count": 24
        }
      ]
    }
  ]
}