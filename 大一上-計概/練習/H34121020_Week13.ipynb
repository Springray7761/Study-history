{
  "nbformat": 4,
  "nbformat_minor": 0,
  "metadata": {
    "colab": {
      "provenance": []
    },
    "kernelspec": {
      "name": "python3",
      "display_name": "Python 3"
    },
    "language_info": {
      "name": "python"
    }
  },
  "cells": [
    {
      "cell_type": "code",
      "execution_count": 1,
      "metadata": {
        "colab": {
          "base_uri": "https://localhost:8080/"
        },
        "id": "uknE5FEJ6Ngo",
        "outputId": "c8298375-c2e1-484c-822f-97e5f4dfbbfd"
      },
      "outputs": [
        {
          "output_type": "stream",
          "name": "stdout",
          "text": [
            "Writing homework.cpp\n"
          ]
        }
      ],
      "source": [
        "%%writefile homework.cpp\n",
        "#include<iostream>\n",
        "#include<ctime>\n",
        "#include<stdlib.h>\n",
        "#include<iomanip>\n",
        "#include<cmath>\n",
        "using namespace std;\n",
        "int main(){\n",
        "  srand(time(0));\n",
        "  int point_in_circle=0,points=5000000;\n",
        "  for(int i=0;i<points;i++){\n",
        "      double x=(double)rand()/RAND_MAX *2 -1;\n",
        "      double y=(double)rand()/RAND_MAX *2 -1;\n",
        "    if(sqrt(x*x+y*y)<=1)\n",
        "      point_in_circle++;\n",
        "  }\n",
        "  cout<<\"The Pi is: \"<<fixed<<setw(6)<<(double)4*point_in_circle/points;\n",
        "  return 0;\n",
        "}"
      ]
    },
    {
      "cell_type": "code",
      "source": [
        "%%shell\n",
        "g++ homework.cpp -o homework\n",
        "./homework"
      ],
      "metadata": {
        "colab": {
          "base_uri": "https://localhost:8080/"
        },
        "id": "M5KF0fpO6d8v",
        "outputId": "dbafd8ee-130e-4abd-e10c-7b7527438b4f"
      },
      "execution_count": 3,
      "outputs": [
        {
          "output_type": "stream",
          "name": "stdout",
          "text": [
            "The Pi is: 3.141450"
          ]
        },
        {
          "output_type": "execute_result",
          "data": {
            "text/plain": []
          },
          "metadata": {},
          "execution_count": 3
        }
      ]
    }
  ]
}