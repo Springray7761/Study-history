{
  "nbformat": 4,
  "nbformat_minor": 0,
  "metadata": {
    "colab": {
      "provenance": []
    },
    "kernelspec": {
      "name": "python3",
      "display_name": "Python 3"
    },
    "language_info": {
      "name": "python"
    }
  },
  "cells": [
    {
      "cell_type": "code",
      "execution_count": 5,
      "metadata": {
        "colab": {
          "base_uri": "https://localhost:8080/"
        },
        "id": "AWDlRnu4nUc9",
        "outputId": "acec4307-ed8f-4b81-bee2-538ba0a89d5e"
      },
      "outputs": [
        {
          "output_type": "stream",
          "name": "stdout",
          "text": [
            "Overwriting hello.cpp\n"
          ]
        }
      ],
      "source": [
        "%%writefile hello.cpp\n",
        "#include<iostream>\n",
        "using namespace std;\n",
        "int main(){\n",
        "  int year;\n",
        "  cout<<\"Input a four digits AD year: \";\n",
        "  cin>>year;\n",
        "  if(1000<=year&&year<=9999){\n",
        "    if((year%400==0)||((year%4==0)&&(year%100!=0)))\n",
        "      cout<<endl<<\"Leap year\";\n",
        "    else\n",
        "      cout<<endl<<\"Common year\";\n",
        "  }\n",
        "  else\n",
        "    cout<<endl<<\"Wrong input !\";\n",
        "  return 0;\n",
        "}"
      ]
    },
    {
      "cell_type": "code",
      "source": [
        "%%shell\n",
        "g++ hello.cpp -o hello\n",
        "./hello"
      ],
      "metadata": {
        "colab": {
          "base_uri": "https://localhost:8080/"
        },
        "id": "knsqk95ZnXKk",
        "outputId": "470d403b-93c5-4a55-c8d8-25e19b20da1f"
      },
      "execution_count": 11,
      "outputs": [
        {
          "output_type": "stream",
          "name": "stdout",
          "text": [
            "Input a four digits AD year: 1612\n",
            "\n",
            "Leap year"
          ]
        },
        {
          "output_type": "execute_result",
          "data": {
            "text/plain": []
          },
          "metadata": {},
          "execution_count": 11
        }
      ]
    }
  ]
}