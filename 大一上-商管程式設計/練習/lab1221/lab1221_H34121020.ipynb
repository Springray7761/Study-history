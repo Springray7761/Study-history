{
 "cells": [
  {
   "cell_type": "markdown",
   "id": "ecf42761",
   "metadata": {},
   "source": [
    "## Process Sales Data<br>\n",
    "#### Objective\n",
    "Your task is to write a Python function named $\\rm\\color{cyan}{process\\_sales\\_data}$ that reads sales data from a file, calculates the total quantity sold for each product, and outputs the results both on the screen and to a separate file.<br><br>\n",
    "\n",
    "#### Background\n",
    "You are provided with a sales data file where each line represents a sale. Each line contains three pieces of information, separated by commas: the date of the sale, the product name, and the quantity sold.<br><br>\n",
    "\n",
    "#### Requirements\n",
    "* Read Sales Data: Your function should read data from a provided text file named $\\rm\\color{cyan}{sales.txt}$. Each line in the file follows the format: date, product_name, quantity_sold. For example: 2023-12-01, WH-1000XM5, 3.\n",
    "* Calculate Total Sales: For each product, calculate the total quantity sold over the entire dataset.<br><br>\n",
    "\n",
    "#### Output Results\n",
    "\n",
    "* Print the total quantity sold for each product on the screen. The output should be sorted alphabetically by the product name.\n",
    "* Write these results to a new text file named $\\rm\\color{cyan}{sales\\_dec.txt}$ in the format: product_name, total_quantity. The products should be listed in alphabetical order.<br><br>\n",
    "\n",
    "#### Constraints\n",
    "* Do not use dictionary data structures.\n",
    "* Avoid using advanced Python features such as zip, lambda, or list comprehensions.\n",
    "* Focus on using basic loops, conditional statements, and list operations.<br><br>\n",
    "\n",
    "#### Tips\n",
    "* Start by reading the file line by line and understand how to extract the necessary information.\n",
    "* Keep track of the total quantity sold for each product using parallel lists.\n",
    "* Sort the results before printing and writing them to the file."
   ]
  },
  {
   "cell_type": "code",
   "execution_count": 34,
   "id": "b33a51d0",
   "metadata": {},
   "outputs": [
    {
     "name": "stdout",
     "output_type": "stream",
     "text": [
      "PlayStation 5,102\n",
      "WH-1000XM5,90\n",
      "XRM-65X95L,81\n",
      "Xperia 1 V,97\n"
     ]
    }
   ],
   "source": [
    "def process_sales_date(sales_file,write_file):\n",
    "    \"\"\"\n",
    "    this fuction read the data and calculate the quantity sold show it and write it to other file\n",
    "    \"\"\"\n",
    "    with open(f'{sales_file}','r') as file1: \n",
    "        with open(f'{write_file}','w') as file2:\n",
    "            product_list = []\n",
    "            product_num = []\n",
    "            for line in file1:\n",
    "                i=12\n",
    "                product =''\n",
    "                while line[i]!=',':\n",
    "                    product+=line[i]\n",
    "                    i+=1\n",
    "                if product not in product_list:\n",
    "                    product_list.append(product)\n",
    "                    if line[i+3] != '\\n':\n",
    "                        product_num.append(int(line[i+2])*10+int(line[i+3]))\n",
    "                    else:\n",
    "                        product_num.append(int(line[i+2]))\n",
    "                else:\n",
    "                    if line[i+3] != '\\n':\n",
    "                        product_num[product_list.index(product)]+=int(line[i+2])*10+int(line[i+3])\n",
    "                    else:\n",
    "                        product_num[product_list.index(product)]+=int(line[i+2])      \n",
    "            list3=product_list\n",
    "            for index in range(len(product_list)):\n",
    "                for index2 in range(index,len(product_list)):\n",
    "                    if(list3[index]>list3[index2]): \n",
    "                        list3[index2],list3[index]=list3[index],list3[index2]\n",
    "            for index in range(0,len(list3)):\n",
    "                print(list3[index],end=',')\n",
    "                file2.write(f'{list3[index]},')\n",
    "                print(product_num[product_list.index(list3[index])])\n",
    "                file2.write(f'{product_num[product_list.index(list3[index])]}\\n')\n",
    "process_sales_date('sales.txt','sales_dec.txt')\n",
    "                \n",
    "                \n",
    "                "
   ]
  },
  {
   "cell_type": "markdown",
   "id": "a8dd7d85",
   "metadata": {},
   "source": [
    "## Calculate Product Scores Based on Customer Feedback<br>\n",
    "#### Objective\n",
    "Develop a Python function named $\\rm\\color{cyan}{calculate\\_product\\_scores}$ that reads customer feedback data from a file, calculates the average sentiment score for each product, and outputs the results on the screen and to a separate file.<br><br>\n",
    "\n",
    "#### Background\n",
    "You are given a file containing customer feedback for various products. Each line in the file includes a date, the product name, and a customer's feedback text. Feedback can be categorized as positive, negative, or neutral based on predefined lists of phrases.<br><br>\n",
    "\n",
    "#### Requirements\n",
    "Read Feedback Data: Your function should read data from a text file named $\\rm\\color{cyan}{customer\\_feedback.txt}$. Each line follows the format: date, product_name, feedback_text.<br><br>\n",
    "\n",
    "#### Calculate Average Scores\n",
    "* Categorize each feedback as positive (+1 point), negative (-1 point), or neutral (0 points).\n",
    "* Calculate the average score for each product based on this categorization.<br><br>\n",
    "\n",
    "#### Output Results\n",
    "* Print the average score for each product on the screen in the format: product_name, average_score.\n",
    "* Write these results to a new text file named $\\rm\\color{cyan}{product\\_score.txt}$. The products should be listed in alphabetical order.<br><br>\n",
    "\n",
    "#### Constraints\n",
    "* Do not use dictionary data structures, zip, lambda, or list comprehensions.\n",
    "* Use basic loops, conditional statements, and list operations.\n",
    "* Utilize parallel lists to track products and their corresponding scores.<br><br>\n",
    "\n",
    "#### Tips\n",
    "* Start by categorizing each feedback based on the predefined lists of positive, negative, and neutral phrases.\n",
    "* Accumulate scores and count feedback for each product using parallel lists.\n",
    "* Calculate the average score for each product and ensure proper formatting for output."
   ]
  },
  {
   "cell_type": "code",
   "execution_count": 12,
   "id": "b5e9751e",
   "metadata": {},
   "outputs": [],
   "source": [
    "positive = ['Impressed with the performance and durability. Great job.',\n",
    "            'Top-notch in quality. Highly satisfied.',\n",
    "            'Loved the innovative features. Never disappoints.']\n",
    "negative = ['Disappointed with the reliability. Expected better.',\n",
    "            'Frequently malfunctions. Not up to its standards.',\n",
    "            'Poor build quality. Regret this purchase.']\n",
    "neutral = ['Works fine, but nothing exceptional.',\n",
    "           'Just average - does the job but lacks wow factor.',\n",
    "           'An okay product; meets basic needs without standing out.']\n",
    "products = ['PlayStation 5', 'WH-1000XM5', 'XRM-65X95L', 'Xperia 1 V']"
   ]
  },
  {
   "cell_type": "code",
   "execution_count": 30,
   "id": "f5a68dc3",
   "metadata": {},
   "outputs": [
    {
     "name": "stdout",
     "output_type": "stream",
     "text": [
      "PlayStation 5,0.46\n",
      "WH-1000XM5,0.44\n",
      "XRM-65X95L,0.65\n",
      "Xperia 1 V,-0.68\n"
     ]
    }
   ],
   "source": [
    "def calculate_product_scores(input_file,output_file):\n",
    "    \"\"\"\n",
    "    \n",
    "    \"\"\"\n",
    "    with open(f'{input_file}','r') as file1:\n",
    "        with open(f'{output_file}','w') as file2:\n",
    "                product_num = []\n",
    "                product_score = []\n",
    "                for index in range(0,len(products)):\n",
    "                    product_score.append(0.0)\n",
    "                    product_num.append(0)\n",
    "                for line in file1:\n",
    "                    i=12\n",
    "                    product =''\n",
    "                    while line[i]!=',':\n",
    "                        product+=line[i]\n",
    "                        i+=1\n",
    "                    i+=2\n",
    "                    feedback=''\n",
    "                    while line[i]!='\\n':\n",
    "                        feedback+=line[i]\n",
    "                        i+=1\n",
    "                    product_num[products.index(product)]+=1\n",
    "                    if feedback in positive:\n",
    "                        product_score[products.index(product)]+=1\n",
    "                    if feedback in negative:\n",
    "                        product_score[products.index(product)]-=1\n",
    "                for index in range(0,len(products)):\n",
    "                    print(products[index],end=',')\n",
    "                    file2.write(f'{products[index]},')\n",
    "                    print(\"{0:.2f}\".format(product_score[index]/product_num[index]))\n",
    "                    file2.write(\"{0:.2f}\\n\".format(product_score[index]/product_num[index]))\n",
    "                    \n",
    "calculate_product_scores('customer_feedback.txt','product_score.txt')"
   ]
  },
  {
   "cell_type": "code",
   "execution_count": null,
   "id": "5d7dc963",
   "metadata": {},
   "outputs": [],
   "source": []
  }
 ],
 "metadata": {
  "kernelspec": {
   "display_name": "Python 3 (ipykernel)",
   "language": "python",
   "name": "python3"
  },
  "language_info": {
   "codemirror_mode": {
    "name": "ipython",
    "version": 3
   },
   "file_extension": ".py",
   "mimetype": "text/x-python",
   "name": "python",
   "nbconvert_exporter": "python",
   "pygments_lexer": "ipython3",
   "version": "3.11.5"
  }
 },
 "nbformat": 4,
 "nbformat_minor": 5
}
