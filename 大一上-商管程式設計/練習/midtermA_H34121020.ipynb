{
 "cells": [
  {
   "cell_type": "markdown",
   "id": "89a79e7a",
   "metadata": {},
   "source": [
    "### 請先將檔名的學號部分改成自己的。未更改者本次考試成績扣 $20$ 分。"
   ]
  },
  {
   "cell_type": "markdown",
   "id": "18fccf42",
   "metadata": {},
   "source": [
    "### 考拉茲猜想\n",
    "<br>\n",
    "\n",
    "考拉茲猜想是一個數學上未解的問題，它的敘述本身十分直觀：對所有自然數，如果它是奇數，則對它乘以 $3$ 再加 $1$；如果它是偶數，則對它除以 $2$，如此循環，最終都能夠得到 $1$。這個猜想尚未被證明，但是目前已知在足夠大的範圍之內，它都是成立的。\n",
    "<br><br>\n",
    "\n",
    "比方說，根據這個猜想，對 $17$ 進行處理，則我們會經過 $12$ 個步驟依序得到 $52,26,13,40,20,10,5,16,8,4,2,1$，當中最大的數是 $52$；而取 $26$ 時，則會經過 $10$ 個步驟，依序得到 $13,40,20,10,5,16,8,4,2,1$，當中最大的數是 $40$。\n",
    "<br><br>\n",
    "\n",
    "請實作出考拉茲猜想，它必須滿足下列需求  \n",
    "1. 使用者可以輸入任意 $\\rm{\\le 500}$ 的正整數，如果不在此範圍，則在螢幕顯示一個錯誤訊息，並讓使用者不斷重新輸入，直到符合範圍為止\n",
    "2. 輸出每一個步驟的結果，並且讓它不要每次輸出值後後都在新的一行開始\n",
    "3. 所有數字輸出完畢後，使用 $\\rm{f}$ 字串輸出所經歷的總步驟數與整個過程中最大的數"
   ]
  },
  {
   "cell_type": "code",
   "execution_count": 8,
   "id": "eee23b05",
   "metadata": {},
   "outputs": [
    {
     "name": "stdout",
     "output_type": "stream",
     "text": [
      "Please input a int which is smaller then 500:50\n",
      "25,76,38,19,58,29,88,44,22,11,34,17,52,26,13,40,20,10,5,16,8,4,2,1,\n",
      "It has been 24 steps, and the biggest number during the process is 88.\n"
     ]
    }
   ],
   "source": [
    "number=int(input(\"Please input a int which is smaller then 500:\"))\n",
    "while(number>500):\n",
    "    print(\"Error input,please try again\")\n",
    "    number=input(\"Please input a int which is smaller then 500\")\n",
    "counter=0\n",
    "max_number=number\n",
    "while(number!=1):\n",
    "    if(number%2==0):\n",
    "        number=int(number/2)\n",
    "    else:\n",
    "        number=number*3+1\n",
    "    if(number>max_number):\n",
    "        max_number=number\n",
    "    print(number,end=',')\n",
    "    counter+=1\n",
    "print(f\"\\nIt has been {counter} steps, and the biggest number during the process is {max_number}.\")\n",
    "\n"
   ]
  },
  {
   "cell_type": "markdown",
   "id": "9de78698",
   "metadata": {},
   "source": [
    "### 計算 $e$ 的近似值\n",
    "<br>\n",
    "\n",
    "自然對數的底 $e$ 的定義如下：\n",
    "<br><br>\n",
    "  \n",
    "$e=\\sum_{k=0}^{\\infty} \\frac{1}{k!}=\\frac{1}{0!}+\\frac{1}{1!}+\\frac{1}{2!}+\\cdot\\cdot\\cdot$\n",
    "  \n",
    "<br><br>\n",
    "當這個級數成長得越大，所估算出的 $e$ 值就越準。請觀察上面的級數規律，利用迴圈實作出 $e$ 的近似值，並把級數拓展至第 $500$ 項。\n"
   ]
  },
  {
   "cell_type": "code",
   "execution_count": 16,
   "id": "e2957526",
   "metadata": {},
   "outputs": [
    {
     "name": "stdout",
     "output_type": "stream",
     "text": [
      "2.7182818284590455348848081484902650117874145507812500000000000000000000000000000000000000000000000000\n"
     ]
    }
   ],
   "source": [
    "counter=0\n",
    "answer=1\n",
    "process=1\n",
    "while(counter!=499):\n",
    "    answer+=process/(counter+1)\n",
    "    process=process/(counter+1)\n",
    "    counter+=1\n",
    "print(f\"{answer:0.100f}\")"
   ]
  },
  {
   "cell_type": "markdown",
   "id": "447de518",
   "metadata": {},
   "source": [
    "### 放地雷\n",
    "<br>\n",
    "  \n",
    "讓使用者輸入正方形的邊長 $\\rm{n}$ 與地雷個數 $\\rm{m}$，然後初始化 (亦即，所有元素均為零) 一個 $\\rm{n\\times n}$ 的 $\\rm{2D}$ 串列。地雷的個數不能大於正方形的邊長加上 $2$，若違反此條件，則讓使用者不斷輸入，直到滿足條件為止。接著，請在此 $\\rm{n\\times n}$ 的範圍內，隨機放置 $\\rm{m}$ 個地雷，最後把這個 $\\rm{2D}$ 串列以不帶中括號的方式輸出。\n",
    "<br><br>\n",
    "\n",
    "我們可以隨機產生 $2$ 個長度為 $\\rm{n}$ 的串列當作地雷隨機散布的位置，且每當地雷被放置，該區域在 $\\rm{2D}$ 串列中的值就會以 $1$ 表示。值得注意的是，這樣的作法可能會導致地雷重複放置。如果發生這樣的情況，最好還是重新產生隨機的地雷位置。至於我們要如何知道地雷被重複放置？由於未被放置的區域為 $0$，而被放置的區域為 $1$，因此，只要在放置結束之後將 $\\rm{2D}$ 串列的值做加總，觀察其值是否等於當初輸入的地雷個數即可。\n",
    "<br><br>\n",
    "  \n",
    "以下是一個輸出的範例：\n",
    "\n",
    "![sample_output](midtermA_01.jpg)"
   ]
  },
  {
   "cell_type": "code",
   "execution_count": 35,
   "id": "ff2e82bf",
   "metadata": {},
   "outputs": [
    {
     "name": "stdout",
     "output_type": "stream",
     "text": [
      "Enter side length: 10\n",
      "Enter number of landmines: 12\n",
      "0 0 0 0 0 0 0 0 0 1 \n",
      "0 0 0 0 0 0 0 0 0 0 \n",
      "0 0 0 1 0 0 0 0 0 0 \n",
      "0 0 0 0 1 0 0 0 0 0 \n",
      "0 1 0 0 0 0 0 0 0 0 \n",
      "0 0 0 0 0 0 0 1 0 0 \n",
      "0 1 1 1 0 0 0 0 0 0 \n",
      "1 0 0 1 0 0 0 1 0 0 \n",
      "0 0 0 0 0 0 0 0 0 0 \n",
      "0 0 1 0 0 0 0 0 0 0 \n"
     ]
    }
   ],
   "source": [
    "import random \n",
    "random.seed()\n",
    "length=int(input(\"Enter side length: \"))\n",
    "mines=int(input(\"Enter number of landmines: \"))\n",
    "while(mines>length+2):\n",
    "    print(\"Too many landmines!\")\n",
    "    mines=int(input(\"Enter number of landmines: \"))\n",
    "for index1 in range(0,length):\n",
    "    map_mines.append([0]*length)\n",
    "    for index2 in range(0,length):\n",
    "        map_mines[index1][index2]=0\n",
    "counter=0\n",
    "while(counter!=mines):\n",
    "    index1=int(random.random()*length)\n",
    "    index2=int(random.random()*length)\n",
    "    if(map_mines[index1][index2]==1):\n",
    "        continue\n",
    "    map_mines[index1][index2]=1\n",
    "    counter+=1\n",
    "for index1 in range(0,length):\n",
    "    for index2 in range(0,length):\n",
    "        print(map_mines[index1][index2],end=' ')\n",
    "    print(\"\")\n",
    "\n",
    "    \n"
   ]
  },
  {
   "cell_type": "code",
   "execution_count": null,
   "id": "cba38b44",
   "metadata": {},
   "outputs": [],
   "source": []
  }
 ],
 "metadata": {
  "kernelspec": {
   "display_name": "Python 3 (ipykernel)",
   "language": "python",
   "name": "python3"
  },
  "language_info": {
   "codemirror_mode": {
    "name": "ipython",
    "version": 3
   },
   "file_extension": ".py",
   "mimetype": "text/x-python",
   "name": "python",
   "nbconvert_exporter": "python",
   "pygments_lexer": "ipython3",
   "version": "3.11.5"
  }
 },
 "nbformat": 4,
 "nbformat_minor": 5
}
