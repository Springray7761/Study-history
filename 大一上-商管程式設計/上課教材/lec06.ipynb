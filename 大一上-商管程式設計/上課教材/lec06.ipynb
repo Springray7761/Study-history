{
 "cells": [
  {
   "cell_type": "markdown",
   "id": "7c4bf4d1",
   "metadata": {
    "slideshow": {
     "slide_type": "subslide"
    }
   },
   "source": [
    "* So far we have seen lots of functions: Built-in functions, functions inside modules, and functions that we have defined\n",
    "* A $\\rm\\color{magenta}{method}$ is another kind of function that is $\\rm\\color{magenta}{attached\\space to\\space a\\space particular\\space type}$\n",
    "* There are str methods, int methods, bool methods, and more — every type has its own set of methods\n",
    "* In this lecture, we will explore how to use methods and also how they differ from the rest of the functions that we have seen"
   ]
  },
  {
   "cell_type": "markdown",
   "id": "1edebae2",
   "metadata": {
    "slideshow": {
     "slide_type": "subslide"
    }
   },
   "source": [
    "### Modules, Classes, and Methods<br>\n",
    "* We saw that a module is a kind of object, one that can contain functions and other variables\n",
    "* There is another kind of object that is similar to a module: a $\\rm\\color{orange}{class}$\n",
    "* We have been using classes all along, probably without realizing it: A class is how Python represents a type\n",
    "* We may have called built-in function help on int, float, bool, or str\n",
    "* We will do that now with str (notice that the first line says that it is a class)"
   ]
  },
  {
   "cell_type": "code",
   "execution_count": 1,
   "id": "7abd7b86",
   "metadata": {
    "slideshow": {
     "slide_type": "fragment"
    }
   },
   "outputs": [
    {
     "name": "stdout",
     "output_type": "stream",
     "text": [
      "Help on class str in module builtins:\n",
      "\n",
      "class str(object)\n",
      " |  str(object='') -> str\n",
      " |  str(bytes_or_buffer[, encoding[, errors]]) -> str\n",
      " |  \n",
      " |  Create a new string object from the given object. If encoding or\n",
      " |  errors is specified, then the object must expose a data buffer\n",
      " |  that will be decoded using the given encoding and error handler.\n",
      " |  Otherwise, returns the result of object.__str__() (if defined)\n",
      " |  or repr(object).\n",
      " |  encoding defaults to sys.getdefaultencoding().\n",
      " |  errors defaults to 'strict'.\n",
      " |  \n",
      " |  Methods defined here:\n",
      " |  \n",
      " |  __add__(self, value, /)\n",
      " |      Return self+value.\n",
      " |  \n",
      " |  __contains__(self, key, /)\n",
      " |      Return key in self.\n",
      " |  \n",
      " |  __eq__(self, value, /)\n",
      " |      Return self==value.\n",
      " |  \n",
      " |  __format__(self, format_spec, /)\n",
      " |      Return a formatted version of the string as described by format_spec.\n",
      " |  \n",
      " |  __ge__(self, value, /)\n",
      " |      Return self>=value.\n",
      " |  \n",
      " |  __getattribute__(self, name, /)\n",
      " |      Return getattr(self, name).\n",
      " |  \n",
      " |  __getitem__(self, key, /)\n",
      " |      Return self[key].\n",
      " |  \n",
      " |  __getnewargs__(...)\n",
      " |  \n",
      " |  __gt__(self, value, /)\n",
      " |      Return self>value.\n",
      " |  \n",
      " |  __hash__(self, /)\n",
      " |      Return hash(self).\n",
      " |  \n",
      " |  __iter__(self, /)\n",
      " |      Implement iter(self).\n",
      " |  \n",
      " |  __le__(self, value, /)\n",
      " |      Return self<=value.\n",
      " |  \n",
      " |  __len__(self, /)\n",
      " |      Return len(self).\n",
      " |  \n",
      " |  __lt__(self, value, /)\n",
      " |      Return self<value.\n",
      " |  \n",
      " |  __mod__(self, value, /)\n",
      " |      Return self%value.\n",
      " |  \n",
      " |  __mul__(self, value, /)\n",
      " |      Return self*value.\n",
      " |  \n",
      " |  __ne__(self, value, /)\n",
      " |      Return self!=value.\n",
      " |  \n",
      " |  __repr__(self, /)\n",
      " |      Return repr(self).\n",
      " |  \n",
      " |  __rmod__(self, value, /)\n",
      " |      Return value%self.\n",
      " |  \n",
      " |  __rmul__(self, value, /)\n",
      " |      Return value*self.\n",
      " |  \n",
      " |  __sizeof__(self, /)\n",
      " |      Return the size of the string in memory, in bytes.\n",
      " |  \n",
      " |  __str__(self, /)\n",
      " |      Return str(self).\n",
      " |  \n",
      " |  capitalize(self, /)\n",
      " |      Return a capitalized version of the string.\n",
      " |      \n",
      " |      More specifically, make the first character have upper case and the rest lower\n",
      " |      case.\n",
      " |  \n",
      " |  casefold(self, /)\n",
      " |      Return a version of the string suitable for caseless comparisons.\n",
      " |  \n",
      " |  center(self, width, fillchar=' ', /)\n",
      " |      Return a centered string of length width.\n",
      " |      \n",
      " |      Padding is done using the specified fill character (default is a space).\n",
      " |  \n",
      " |  count(...)\n",
      " |      S.count(sub[, start[, end]]) -> int\n",
      " |      \n",
      " |      Return the number of non-overlapping occurrences of substring sub in\n",
      " |      string S[start:end].  Optional arguments start and end are\n",
      " |      interpreted as in slice notation.\n",
      " |  \n",
      " |  encode(self, /, encoding='utf-8', errors='strict')\n",
      " |      Encode the string using the codec registered for encoding.\n",
      " |      \n",
      " |      encoding\n",
      " |        The encoding in which to encode the string.\n",
      " |      errors\n",
      " |        The error handling scheme to use for encoding errors.\n",
      " |        The default is 'strict' meaning that encoding errors raise a\n",
      " |        UnicodeEncodeError.  Other possible values are 'ignore', 'replace' and\n",
      " |        'xmlcharrefreplace' as well as any other name registered with\n",
      " |        codecs.register_error that can handle UnicodeEncodeErrors.\n",
      " |  \n",
      " |  endswith(...)\n",
      " |      S.endswith(suffix[, start[, end]]) -> bool\n",
      " |      \n",
      " |      Return True if S ends with the specified suffix, False otherwise.\n",
      " |      With optional start, test S beginning at that position.\n",
      " |      With optional end, stop comparing S at that position.\n",
      " |      suffix can also be a tuple of strings to try.\n",
      " |  \n",
      " |  expandtabs(self, /, tabsize=8)\n",
      " |      Return a copy where all tab characters are expanded using spaces.\n",
      " |      \n",
      " |      If tabsize is not given, a tab size of 8 characters is assumed.\n",
      " |  \n",
      " |  find(...)\n",
      " |      S.find(sub[, start[, end]]) -> int\n",
      " |      \n",
      " |      Return the lowest index in S where substring sub is found,\n",
      " |      such that sub is contained within S[start:end].  Optional\n",
      " |      arguments start and end are interpreted as in slice notation.\n",
      " |      \n",
      " |      Return -1 on failure.\n",
      " |  \n",
      " |  format(...)\n",
      " |      S.format(*args, **kwargs) -> str\n",
      " |      \n",
      " |      Return a formatted version of S, using substitutions from args and kwargs.\n",
      " |      The substitutions are identified by braces ('{' and '}').\n",
      " |  \n",
      " |  format_map(...)\n",
      " |      S.format_map(mapping) -> str\n",
      " |      \n",
      " |      Return a formatted version of S, using substitutions from mapping.\n",
      " |      The substitutions are identified by braces ('{' and '}').\n",
      " |  \n",
      " |  index(...)\n",
      " |      S.index(sub[, start[, end]]) -> int\n",
      " |      \n",
      " |      Return the lowest index in S where substring sub is found,\n",
      " |      such that sub is contained within S[start:end].  Optional\n",
      " |      arguments start and end are interpreted as in slice notation.\n",
      " |      \n",
      " |      Raises ValueError when the substring is not found.\n",
      " |  \n",
      " |  isalnum(self, /)\n",
      " |      Return True if the string is an alpha-numeric string, False otherwise.\n",
      " |      \n",
      " |      A string is alpha-numeric if all characters in the string are alpha-numeric and\n",
      " |      there is at least one character in the string.\n",
      " |  \n",
      " |  isalpha(self, /)\n",
      " |      Return True if the string is an alphabetic string, False otherwise.\n",
      " |      \n",
      " |      A string is alphabetic if all characters in the string are alphabetic and there\n",
      " |      is at least one character in the string.\n",
      " |  \n",
      " |  isascii(self, /)\n",
      " |      Return True if all characters in the string are ASCII, False otherwise.\n",
      " |      \n",
      " |      ASCII characters have code points in the range U+0000-U+007F.\n",
      " |      Empty string is ASCII too.\n",
      " |  \n",
      " |  isdecimal(self, /)\n",
      " |      Return True if the string is a decimal string, False otherwise.\n",
      " |      \n",
      " |      A string is a decimal string if all characters in the string are decimal and\n",
      " |      there is at least one character in the string.\n",
      " |  \n",
      " |  isdigit(self, /)\n",
      " |      Return True if the string is a digit string, False otherwise.\n",
      " |      \n",
      " |      A string is a digit string if all characters in the string are digits and there\n",
      " |      is at least one character in the string.\n",
      " |  \n",
      " |  isidentifier(self, /)\n",
      " |      Return True if the string is a valid Python identifier, False otherwise.\n",
      " |      \n",
      " |      Call keyword.iskeyword(s) to test whether string s is a reserved identifier,\n",
      " |      such as \"def\" or \"class\".\n",
      " |  \n",
      " |  islower(self, /)\n",
      " |      Return True if the string is a lowercase string, False otherwise.\n",
      " |      \n",
      " |      A string is lowercase if all cased characters in the string are lowercase and\n",
      " |      there is at least one cased character in the string.\n",
      " |  \n",
      " |  isnumeric(self, /)\n",
      " |      Return True if the string is a numeric string, False otherwise.\n",
      " |      \n",
      " |      A string is numeric if all characters in the string are numeric and there is at\n",
      " |      least one character in the string.\n",
      " |  \n",
      " |  isprintable(self, /)\n",
      " |      Return True if the string is printable, False otherwise.\n",
      " |      \n",
      " |      A string is printable if all of its characters are considered printable in\n",
      " |      repr() or if it is empty.\n",
      " |  \n",
      " |  isspace(self, /)\n",
      " |      Return True if the string is a whitespace string, False otherwise.\n",
      " |      \n",
      " |      A string is whitespace if all characters in the string are whitespace and there\n",
      " |      is at least one character in the string.\n",
      " |  \n",
      " |  istitle(self, /)\n",
      " |      Return True if the string is a title-cased string, False otherwise.\n",
      " |      \n",
      " |      In a title-cased string, upper- and title-case characters may only\n",
      " |      follow uncased characters and lowercase characters only cased ones.\n",
      " |  \n",
      " |  isupper(self, /)\n",
      " |      Return True if the string is an uppercase string, False otherwise.\n",
      " |      \n",
      " |      A string is uppercase if all cased characters in the string are uppercase and\n",
      " |      there is at least one cased character in the string.\n",
      " |  \n",
      " |  join(self, iterable, /)\n",
      " |      Concatenate any number of strings.\n",
      " |      \n",
      " |      The string whose method is called is inserted in between each given string.\n",
      " |      The result is returned as a new string.\n",
      " |      \n",
      " |      Example: '.'.join(['ab', 'pq', 'rs']) -> 'ab.pq.rs'\n",
      " |  \n",
      " |  ljust(self, width, fillchar=' ', /)\n",
      " |      Return a left-justified string of length width.\n",
      " |      \n",
      " |      Padding is done using the specified fill character (default is a space).\n",
      " |  \n",
      " |  lower(self, /)\n",
      " |      Return a copy of the string converted to lowercase.\n",
      " |  \n",
      " |  lstrip(self, chars=None, /)\n",
      " |      Return a copy of the string with leading whitespace removed.\n",
      " |      \n",
      " |      If chars is given and not None, remove characters in chars instead.\n",
      " |  \n",
      " |  partition(self, sep, /)\n",
      " |      Partition the string into three parts using the given separator.\n",
      " |      \n",
      " |      This will search for the separator in the string.  If the separator is found,\n",
      " |      returns a 3-tuple containing the part before the separator, the separator\n",
      " |      itself, and the part after it.\n",
      " |      \n",
      " |      If the separator is not found, returns a 3-tuple containing the original string\n",
      " |      and two empty strings.\n",
      " |  \n",
      " |  removeprefix(self, prefix, /)\n",
      " |      Return a str with the given prefix string removed if present.\n",
      " |      \n",
      " |      If the string starts with the prefix string, return string[len(prefix):].\n",
      " |      Otherwise, return a copy of the original string.\n",
      " |  \n",
      " |  removesuffix(self, suffix, /)\n",
      " |      Return a str with the given suffix string removed if present.\n",
      " |      \n",
      " |      If the string ends with the suffix string and that suffix is not empty,\n",
      " |      return string[:-len(suffix)]. Otherwise, return a copy of the original\n",
      " |      string.\n",
      " |  \n",
      " |  replace(self, old, new, count=-1, /)\n",
      " |      Return a copy with all occurrences of substring old replaced by new.\n",
      " |      \n",
      " |        count\n",
      " |          Maximum number of occurrences to replace.\n",
      " |          -1 (the default value) means replace all occurrences.\n",
      " |      \n",
      " |      If the optional argument count is given, only the first count occurrences are\n",
      " |      replaced.\n",
      " |  \n",
      " |  rfind(...)\n",
      " |      S.rfind(sub[, start[, end]]) -> int\n",
      " |      \n",
      " |      Return the highest index in S where substring sub is found,\n",
      " |      such that sub is contained within S[start:end].  Optional\n",
      " |      arguments start and end are interpreted as in slice notation.\n",
      " |      \n",
      " |      Return -1 on failure.\n",
      " |  \n",
      " |  rindex(...)\n",
      " |      S.rindex(sub[, start[, end]]) -> int\n",
      " |      \n",
      " |      Return the highest index in S where substring sub is found,\n",
      " |      such that sub is contained within S[start:end].  Optional\n",
      " |      arguments start and end are interpreted as in slice notation.\n",
      " |      \n",
      " |      Raises ValueError when the substring is not found.\n",
      " |  \n",
      " |  rjust(self, width, fillchar=' ', /)\n",
      " |      Return a right-justified string of length width.\n",
      " |      \n",
      " |      Padding is done using the specified fill character (default is a space).\n",
      " |  \n",
      " |  rpartition(self, sep, /)\n",
      " |      Partition the string into three parts using the given separator.\n",
      " |      \n",
      " |      This will search for the separator in the string, starting at the end. If\n",
      " |      the separator is found, returns a 3-tuple containing the part before the\n",
      " |      separator, the separator itself, and the part after it.\n",
      " |      \n",
      " |      If the separator is not found, returns a 3-tuple containing two empty strings\n",
      " |      and the original string.\n",
      " |  \n",
      " |  rsplit(self, /, sep=None, maxsplit=-1)\n",
      " |      Return a list of the substrings in the string, using sep as the separator string.\n",
      " |      \n",
      " |        sep\n",
      " |          The separator used to split the string.\n",
      " |      \n",
      " |          When set to None (the default value), will split on any whitespace\n",
      " |          character (including \\\\n \\\\r \\\\t \\\\f and spaces) and will discard\n",
      " |          empty strings from the result.\n",
      " |        maxsplit\n",
      " |          Maximum number of splits (starting from the left).\n",
      " |          -1 (the default value) means no limit.\n",
      " |      \n",
      " |      Splitting starts at the end of the string and works to the front.\n",
      " |  \n",
      " |  rstrip(self, chars=None, /)\n",
      " |      Return a copy of the string with trailing whitespace removed.\n",
      " |      \n",
      " |      If chars is given and not None, remove characters in chars instead.\n",
      " |  \n",
      " |  split(self, /, sep=None, maxsplit=-1)\n",
      " |      Return a list of the substrings in the string, using sep as the separator string.\n",
      " |      \n",
      " |        sep\n",
      " |          The separator used to split the string.\n",
      " |      \n",
      " |          When set to None (the default value), will split on any whitespace\n",
      " |          character (including \\\\n \\\\r \\\\t \\\\f and spaces) and will discard\n",
      " |          empty strings from the result.\n",
      " |        maxsplit\n",
      " |          Maximum number of splits (starting from the left).\n",
      " |          -1 (the default value) means no limit.\n",
      " |      \n",
      " |      Note, str.split() is mainly useful for data that has been intentionally\n",
      " |      delimited.  With natural text that includes punctuation, consider using\n",
      " |      the regular expression module.\n",
      " |  \n",
      " |  splitlines(self, /, keepends=False)\n",
      " |      Return a list of the lines in the string, breaking at line boundaries.\n",
      " |      \n",
      " |      Line breaks are not included in the resulting list unless keepends is given and\n",
      " |      true.\n",
      " |  \n",
      " |  startswith(...)\n",
      " |      S.startswith(prefix[, start[, end]]) -> bool\n",
      " |      \n",
      " |      Return True if S starts with the specified prefix, False otherwise.\n",
      " |      With optional start, test S beginning at that position.\n",
      " |      With optional end, stop comparing S at that position.\n",
      " |      prefix can also be a tuple of strings to try.\n",
      " |  \n",
      " |  strip(self, chars=None, /)\n",
      " |      Return a copy of the string with leading and trailing whitespace removed.\n",
      " |      \n",
      " |      If chars is given and not None, remove characters in chars instead.\n",
      " |  \n",
      " |  swapcase(self, /)\n",
      " |      Convert uppercase characters to lowercase and lowercase characters to uppercase.\n",
      " |  \n",
      " |  title(self, /)\n",
      " |      Return a version of the string where each word is titlecased.\n",
      " |      \n",
      " |      More specifically, words start with uppercased characters and all remaining\n",
      " |      cased characters have lower case.\n",
      " |  \n",
      " |  translate(self, table, /)\n",
      " |      Replace each character in the string using the given translation table.\n",
      " |      \n",
      " |        table\n",
      " |          Translation table, which must be a mapping of Unicode ordinals to\n",
      " |          Unicode ordinals, strings, or None.\n",
      " |      \n",
      " |      The table must implement lookup/indexing via __getitem__, for instance a\n",
      " |      dictionary or list.  If this operation raises LookupError, the character is\n",
      " |      left untouched.  Characters mapped to None are deleted.\n",
      " |  \n",
      " |  upper(self, /)\n",
      " |      Return a copy of the string converted to uppercase.\n",
      " |  \n",
      " |  zfill(self, width, /)\n",
      " |      Pad a numeric string with zeros on the left, to fill a field of the given width.\n",
      " |      \n",
      " |      The string is never truncated.\n",
      " |  \n",
      " |  ----------------------------------------------------------------------\n",
      " |  Static methods defined here:\n",
      " |  \n",
      " |  __new__(*args, **kwargs) from builtins.type\n",
      " |      Create and return a new object.  See help(type) for accurate signature.\n",
      " |  \n",
      " |  maketrans(...)\n",
      " |      Return a translation table usable for str.translate().\n",
      " |      \n",
      " |      If there is only one argument, it must be a dictionary mapping Unicode\n",
      " |      ordinals (integers) or characters to Unicode ordinals, strings or None.\n",
      " |      Character keys will be then converted to ordinals.\n",
      " |      If there are two arguments, they must be strings of equal length, and\n",
      " |      in the resulting dictionary, each character in x will be mapped to the\n",
      " |      character at the same position in y. If there is a third argument, it\n",
      " |      must be a string, whose characters will be mapped to None in the result.\n",
      "\n"
     ]
    }
   ],
   "source": [
    "help(str)"
   ]
  },
  {
   "cell_type": "code",
   "execution_count": null,
   "id": "ee5e93ba",
   "metadata": {},
   "outputs": [],
   "source": []
  },
  {
   "cell_type": "markdown",
   "id": "1a204619",
   "metadata": {
    "slideshow": {
     "slide_type": "subslide"
    }
   },
   "source": [
    "* Near the top of this documentation is this\n",
    "  \n",
    "        | str(object[, encoding[, errors]]) -> str\n",
    "        |\n",
    "        | Create a new string object from the given object\n",
    "  \n",
    "* That describes how to use str as a function: We can call it to create a string\n",
    "* For example, str($17$) creates the string '$17$'\n",
    "* We can also use str to call a method in class str, much like we call a function in module math\n",
    "* The main difference is that every method in class str requires a string as its first argument"
   ]
  },
  {
   "cell_type": "code",
   "execution_count": 10,
   "id": "90521e09",
   "metadata": {
    "slideshow": {
     "slide_type": "fragment"
    }
   },
   "outputs": [
    {
     "name": "stdout",
     "output_type": "stream",
     "text": [
      "Browning\n",
      "Browning\n"
     ]
    }
   ],
   "source": [
    "print(str.capitalize('browning'))\n",
    "name='browning'\n",
    "print(name.capitalize())"
   ]
  },
  {
   "cell_type": "markdown",
   "id": "23aacc01",
   "metadata": {
    "slideshow": {
     "slide_type": "subslide"
    }
   },
   "source": [
    "* This is how methods are different from functions: The first argument to every string method must be a string, and the parameter is not described in the documentation for the method\n",
    "* This is because all string methods require a string as the first argument, and more generally, all methods in a class require an object of that class as the first argument"
   ]
  },
  {
   "cell_type": "code",
   "execution_count": 11,
   "id": "cc0a986b",
   "metadata": {
    "slideshow": {
     "slide_type": "fragment"
    }
   },
   "outputs": [
    {
     "name": "stdout",
     "output_type": "stream",
     "text": [
      "        Sonnet 43         \n",
      "2\n"
     ]
    }
   ],
   "source": [
    "print(str.center('Sonnet 43', 26))\n",
    "print(str.count('How do I love thee? Let me count the ways.', 'the'))"
   ]
  },
  {
   "cell_type": "markdown",
   "id": "5f69a088",
   "metadata": {
    "slideshow": {
     "slide_type": "fragment"
    }
   },
   "source": [
    "* The first method call produces a new string that centers 'Sonnet $43$' in a string of length $26$, padding to the left and right with spaces\n",
    "* The second method call counts how many times 'the' occurs in 'How do I love thee? Let me count the ways.'"
   ]
  },
  {
   "cell_type": "markdown",
   "id": "7cc4c812",
   "metadata": {
    "slideshow": {
     "slide_type": "subslide"
    }
   },
   "source": [
    "### Calling Methods the Object-Oriented Way<br>\n",
    "* Every method in class str requires a string as the first argument\n",
    "    * More generally, $\\rm\\color{magenta}{every}$ method in any class requires an object of $\\rm\\color{magenta}{that}$ class as the first argument\n",
    "* Python provides a shorthand form for calling a method where the object appears first and then the method call"
   ]
  },
  {
   "cell_type": "code",
   "execution_count": 12,
   "id": "cb4adb32",
   "metadata": {
    "slideshow": {
     "slide_type": "fragment"
    }
   },
   "outputs": [
    {
     "name": "stdout",
     "output_type": "stream",
     "text": [
      "Browning\n",
      "        Sonnet 43         \n",
      "2\n"
     ]
    }
   ],
   "source": [
    "print('browning'.capitalize())\n",
    "print('Sonnet 43'.center(26))\n",
    "print('How do I love thee? Let me count the ways.'.count('the'))"
   ]
  },
  {
   "cell_type": "markdown",
   "id": "6e5720ca",
   "metadata": {
    "slideshow": {
     "slide_type": "subslide"
    }
   },
   "source": [
    "* When Python encounters one of these method calls, it translates it to the more long-winded form\n",
    "* We will use this shorthand form throughout the rest of the class\n",
    "* The help documentation for methods uses this form. Here is the help for method $\\rm\\color{magenta}{lower}$ in class str"
   ]
  },
  {
   "cell_type": "code",
   "execution_count": 13,
   "id": "f08615aa",
   "metadata": {
    "slideshow": {
     "slide_type": "fragment"
    }
   },
   "outputs": [
    {
     "name": "stdout",
     "output_type": "stream",
     "text": [
      "Help on method_descriptor:\n",
      "\n",
      "lower(self, /)\n",
      "    Return a copy of the string converted to lowercase.\n",
      "\n"
     ]
    }
   ],
   "source": [
    "help(str.lower)"
   ]
  },
  {
   "cell_type": "markdown",
   "id": "2dd9b736",
   "metadata": {
    "slideshow": {
     "slide_type": "subslide"
    }
   },
   "source": [
    "* The general form of a method call is as follows\n",
    "  \n",
    "        «expression».«method_name»(«arguments»)\n",
    "  \n",
    "* So far every example we have seen has a single object as the expression, but any expression can be used as long as it evaluates to the correct type"
   ]
  },
  {
   "cell_type": "code",
   "execution_count": 14,
   "id": "f9a96064",
   "metadata": {
    "slideshow": {
     "slide_type": "fragment"
    }
   },
   "outputs": [
    {
     "name": "stdout",
     "output_type": "stream",
     "text": [
      "2\n"
     ]
    }
   ],
   "source": [
    "print(('TTA' + 'G' * 3).count('T'))"
   ]
  },
  {
   "cell_type": "markdown",
   "id": "c957db88",
   "metadata": {
    "slideshow": {
     "slide_type": "subslide"
    }
   },
   "source": [
    "Here are the steps for executing a method call. These steps are quite similar to those for executing a function call<br>\n",
    "1. Evaluate «expression»\n",
    "    * This may be something simple, like 'Elizabeth Barrett Browning' (a poet from the 1800s)\n",
    "    * Or it may be more complicated, like ('TTA' + 'G' * $3$)\n",
    "    * Either way, a single object is produced, and that will be the object we are interacting with during the method call\n",
    "2. Now that we have an object, evaluate the method arguments left to right\n",
    "    * In our DNA example, the argument is 'T'\n",
    "3. Pass the result of evaluating the initial expression as the first argument, and also pass the argument values from the previous step, into the method\n",
    "    * In our DNA example, our code is equivalent to str.count('TTAGGG', 'T')\n",
    "4. Execute the method<br>\n",
    "  \n",
    "When the method call finishes, it produces a value. In our DNA example, str.count('TTAGGG', 'T') returns the number of times 'T' occurs in 'TTAGGG', which is $2$"
   ]
  },
  {
   "cell_type": "markdown",
   "id": "efb5c63f",
   "metadata": {
    "slideshow": {
     "slide_type": "subslide"
    }
   },
   "source": [
    "### Why Programming Languages Are Called Object Oriented?<br>\n",
    "* The phrase $\\rm\\color{cyan}{object\\space oriented}$ was introduced to describe the style of programming where the objects are the main focus\n",
    "    * We tell objects to do things (by calling their methods)\n",
    "* As opposed to $\\rm\\color{cyan}{imperative\\space programming}$, where functions are the primary focus and we pass them objects to work with\n",
    "* Python allows a mixture of both styles"
   ]
  },
  {
   "cell_type": "markdown",
   "id": "42bc283b",
   "metadata": {
    "slideshow": {
     "slide_type": "subslide"
    }
   },
   "source": [
    "### Exploring String Methods<br>\n",
    "* Strings are central to programming; almost every program uses strings in some way\n",
    "* We will explore some of the ways in which we can manipulate strings and, at the same time, firm up our understanding of methods\n",
    "---\n",
    "| Method | Description |\n",
    "| :--: | :--: |\n",
    "| str.capitalize() | Returns a copy of the string with the first letter capitalized and the rest lowercase |\n",
    "| str.count(s) | Returns the number of nonoverlapping occurrences of s in the string |\n",
    "| str.endswith(end) | Returns True iff the string ends with the characters in the end string — this is case sensitive |\n",
    "| str.find(s) | Returns the index of the first occurrence of s in the string, or -1 if s does not occur in the string — the first character is at index 0. This is case sensitive |\n",
    "| str.find(s, beg) | Returns the index of the first occurrence of s at or after index beg in the string, or -1 if s does not occur in the string at or after index beg — the first character is at index 0. This is case sensitive |\n",
    "| str.find(s, beg, end) | Returns the index of the first occurrence of s between indices beg (inclusive) and end (exclusive) in the string, or -1 if s does not occur in the string between indices beg and end — the first character is at index 0. This is case sensitive |\n",
    "| str.format(«expressions») | Returns a string made by substituting for placeholder fields in the string — each field is a pair of braces ('{' and '}') with an integer in between; the expression arguments are numbered from left to right starting at 0. Each field is replaced by the value produced by evaluating the expression whose index corresponds with the integer in between the braces of the field. If an expression produces a value that is not a string, that value is converted into a string|\n",
    "| str.islower() | Returns True iff all characters in the string are lowercase |\n",
    "| str.isupper() | Returns True iff all characters in the string are uppercase |"
   ]
  },
  {
   "cell_type": "markdown",
   "id": "eaf4fcfc",
   "metadata": {
    "slideshow": {
     "slide_type": "subslide"
    }
   },
   "source": [
    "| Method | Description |\n",
    "| :--: | :--: |\n",
    "| str.lower() | Returns a copy of the string with all letters converted to lowercase |\n",
    "| str.lstrip() | Returns a copy of the string with leading whitespace removed |\n",
    "| str.lstrip(s) | Returns a copy of the string with leading occurrences of the characters in s removed |\n",
    "| str.replace(old, new) | Returns a copy of the string with all occurrences of substring old replaced with string new |\n",
    "| str.rstrip() | Returns a copy of the string with trailing whitespace removed |\n",
    "| str.rstrip(s) | Returns a copy of the string with trailing occurrences of the characters in s removed |\n",
    "| str.split() | Returns the whitespace-separated words in the string as a list |\n",
    "| str.startswith(beginning) | Returns True iff the string starts with the letters in the string beginning — this is case sensitive |\n",
    "| str.strip() | Returns a copy of the string with trailing whitespace removed |\n",
    "| str.strip(s) | Returns a copy of the string with leading and trailing occurrences of the characters in s removed |\n",
    "| str.swapcase() | Returns a copy of the string with all lowercase letters capitalized and all uppercase letters made lowercase |\n",
    "| str.upper() | Returns a copy of the string with all letters converted to uppercase |"
   ]
  },
  {
   "cell_type": "markdown",
   "id": "a2c18c8b",
   "metadata": {
    "slideshow": {
     "slide_type": "subslide"
    }
   },
   "source": [
    "* Method calls look almost the same as function calls, except that in order to call a method we need an object of the type associated with that method"
   ]
  },
  {
   "cell_type": "code",
   "execution_count": 15,
   "id": "e41d379c",
   "metadata": {
    "slideshow": {
     "slide_type": "fragment"
    }
   },
   "outputs": [
    {
     "name": "stdout",
     "output_type": "stream",
     "text": [
      "False\n",
      "True\n"
     ]
    }
   ],
   "source": [
    "print('species'.startswith('a'))\n",
    "print('species'.startswith('spe'))"
   ]
  },
  {
   "cell_type": "markdown",
   "id": "b4ecb23b",
   "metadata": {
    "slideshow": {
     "slide_type": "subslide"
    }
   },
   "source": [
    "* String method $\\rm\\color{magenta}{startswith}$ takes a string argument and returns a bool indicating whether the string starts with the string that is given as an argument\n",
    "* There is also an $\\rm\\color{magenta}{endswith}$ method"
   ]
  },
  {
   "cell_type": "code",
   "execution_count": 16,
   "id": "b6bb8cce",
   "metadata": {
    "slideshow": {
     "slide_type": "fragment"
    }
   },
   "outputs": [
    {
     "name": "stdout",
     "output_type": "stream",
     "text": [
      "False\n",
      "True\n"
     ]
    }
   ],
   "source": [
    "print('species'.endswith('a'))\n",
    "print('species'.endswith('es'))"
   ]
  },
  {
   "cell_type": "markdown",
   "id": "f0f32f3f",
   "metadata": {
    "slideshow": {
     "slide_type": "subslide"
    }
   },
   "source": [
    "* Sometimes strings have extra whitespace at the beginning and the end\n",
    "* The string methods $\\rm\\color{magenta}{lstrip}$, $\\rm\\color{magenta}{rstrip}$, and $\\rm\\color{magenta}{strip}$ remove this whitespace from the front, from the end, and from both, respectively"
   ]
  },
  {
   "cell_type": "code",
   "execution_count": 19,
   "id": "c9b099a9",
   "metadata": {
    "slideshow": {
     "slide_type": "fragment"
    }
   },
   "outputs": [
    {
     "name": "stdout",
     "output_type": "stream",
     "text": [
      " \n",
      " Methyl \n",
      " butanol \n",
      "\n",
      "Methyl \n",
      " butanol \n",
      "\n",
      " \n",
      " Methyl \n",
      " butanol\n",
      "Methyl \n",
      " butanol\n"
     ]
    }
   ],
   "source": [
    "compound = ' \\n Methyl \\n butanol \\n'\n",
    "print(compound)\n",
    "print(compound.lstrip())\n",
    "print(compound.rstrip())\n",
    "print(compound.strip())"
   ]
  },
  {
   "cell_type": "markdown",
   "id": "2c0a4172",
   "metadata": {
    "slideshow": {
     "slide_type": "subslide"
    }
   },
   "source": [
    "* Note that the other whitespace inside the string is unaffected; these methods only work from the front and end"
   ]
  },
  {
   "cell_type": "code",
   "execution_count": 20,
   "id": "3ade7aac",
   "metadata": {
    "slideshow": {
     "slide_type": "fragment"
    }
   },
   "outputs": [
    {
     "name": "stdout",
     "output_type": "stream",
     "text": [
      "cOMPUTER sCIENCE\n"
     ]
    }
   ],
   "source": [
    "print('Computer Science'.swapcase())"
   ]
  },
  {
   "cell_type": "markdown",
   "id": "d8f9a941",
   "metadata": {
    "slideshow": {
     "slide_type": "subslide"
    }
   },
   "source": [
    "### Formatted string literals (f-strings)<br>\n",
    "* Introduced in Python $3.6$, offer a more intuitive and readable way to format strings\n",
    "* Simplify the process of string formatting by directly embedding expressions inside string literals"
   ]
  },
  {
   "cell_type": "code",
   "execution_count": 22,
   "id": "c8247a0b",
   "metadata": {
    "slideshow": {
     "slide_type": "subslide"
    }
   },
   "outputs": [
    {
     "name": "stdout",
     "output_type": "stream",
     "text": [
      "Hello, world!\n",
      "The answer is 42\n",
      "The next conference will be held in 2023\n"
     ]
    }
   ],
   "source": [
    "name = 'world'\n",
    "greeting = f'Hello, {name}!'\n",
    "print(greeting)\n",
    "\n",
    "number = 42\n",
    "message = f'The answer is {number}'\n",
    "print(message)\n",
    "\n",
    "year = 2023\n",
    "event = 'conference'\n",
    "announcement = f'The next {event} will be held in {year}'\n",
    "print(announcement)"
   ]
  },
  {
   "cell_type": "markdown",
   "id": "fc498260",
   "metadata": {
    "slideshow": {
     "slide_type": "subslide"
    }
   },
   "source": [
    "* F-strings in Python allow for versatile formatting, including precision control in displaying numbers\n",
    "* We can format a floating-point number to a specified number of decimal places directly within an f-string"
   ]
  },
  {
   "cell_type": "code",
   "execution_count": 23,
   "id": "60e48019",
   "metadata": {
    "slideshow": {
     "slide_type": "fragment"
    }
   },
   "outputs": [
    {
     "name": "stdout",
     "output_type": "stream",
     "text": [
      "Pi rounded to 2 decimal places is 3.14\n",
      "Pi rounded to 3 decimal places is 3.142\n"
     ]
    }
   ],
   "source": [
    "my_pi = 3.14159\n",
    "formatted_string = f'Pi rounded to 2 decimal places is {my_pi:.2f}'\n",
    "print(formatted_string)\n",
    "\n",
    "formatted_string = f'Pi rounded to 3 decimal places is {my_pi:.3f}'\n",
    "print(formatted_string)"
   ]
  },
  {
   "cell_type": "code",
   "execution_count": 24,
   "id": "b8cf39eb",
   "metadata": {
    "slideshow": {
     "slide_type": "subslide"
    }
   },
   "outputs": [
    {
     "name": "stdout",
     "output_type": "stream",
     "text": [
      "My name is Alice . I am 30 years old and live in New York .\n",
      "My name is Alice. I am 30 years old and live in New York.\n"
     ]
    }
   ],
   "source": [
    "name = 'Alice'\n",
    "age = 30\n",
    "city = 'New York'\n",
    "\n",
    "# Using commas in print()\n",
    "print('My name is', name, '. I am', age, 'years old and live in', city, '.')\n",
    "\n",
    "# Using an f-string\n",
    "print(f'My name is {name}. I am {age} years old and live in {city}.')"
   ]
  },
  {
   "cell_type": "markdown",
   "id": "f6ccca13",
   "metadata": {
    "slideshow": {
     "slide_type": "fragment"
    }
   },
   "source": [
    "* Here, the f-string provides a much neater and more readable format. It embeds variables directly within the string, ensuring correct spacing and formatting\n",
    "* This becomes increasingly beneficial with more complex strings and when precision formatting is needed"
   ]
  },
  {
   "cell_type": "markdown",
   "id": "451877e7",
   "metadata": {
    "slideshow": {
     "slide_type": "subslide"
    }
   },
   "source": [
    "* Recall how a method call starts with an expression\n",
    "* Because 'Computer Science'.swapcase() is an expression, we can immediately call method $\\rm\\color{magenta}{endswith}$ on the result of that expression to check whether that result has 'ENCE' as its last four characters\n",
    "* The call on method $\\rm\\color{magenta}{swapcase}$ produces a new string, and that new string is used for the call on method $\\rm\\color{magenta}{endswith}$"
   ]
  },
  {
   "cell_type": "code",
   "execution_count": 25,
   "id": "79df1f2a",
   "metadata": {
    "slideshow": {
     "slide_type": "fragment"
    }
   },
   "outputs": [
    {
     "name": "stdout",
     "output_type": "stream",
     "text": [
      "True\n"
     ]
    }
   ],
   "source": [
    "print('Computer Science'.swapcase().endswith('ENCE'))"
   ]
  },
  {
   "cell_type": "markdown",
   "id": "b9760e0a",
   "metadata": {
    "slideshow": {
     "slide_type": "subslide"
    }
   },
   "source": [
    "* Both $\\rm\\color{orange}{int}$ and $\\rm\\color{orange}{float}$ are classes\n",
    "* It is possible to access the documentation for these either by calling help(int) or by calling help on an object of the class"
   ]
  },
  {
   "cell_type": "code",
   "execution_count": 26,
   "id": "d0e5da1d",
   "metadata": {
    "slideshow": {
     "slide_type": "fragment"
    }
   },
   "outputs": [
    {
     "name": "stdout",
     "output_type": "stream",
     "text": [
      "Help on int object:\n",
      "\n",
      "class int(object)\n",
      " |  int([x]) -> integer\n",
      " |  int(x, base=10) -> integer\n",
      " |  \n",
      " |  Convert a number or string to an integer, or return 0 if no arguments\n",
      " |  are given.  If x is a number, return x.__int__().  For floating point\n",
      " |  numbers, this truncates towards zero.\n",
      " |  \n",
      " |  If x is not a number or if base is given, then x must be a string,\n",
      " |  bytes, or bytearray instance representing an integer literal in the\n",
      " |  given base.  The literal can be preceded by '+' or '-' and be surrounded\n",
      " |  by whitespace.  The base defaults to 10.  Valid bases are 0 and 2-36.\n",
      " |  Base 0 means to interpret the base from the string as an integer literal.\n",
      " |  >>> int('0b100', base=0)\n",
      " |  4\n",
      " |  \n",
      " |  Built-in subclasses:\n",
      " |      bool\n",
      " |  \n",
      " |  Methods defined here:\n",
      " |  \n",
      " |  __abs__(self, /)\n",
      " |      abs(self)\n",
      " |  \n",
      " |  __add__(self, value, /)\n",
      " |      Return self+value.\n",
      " |  \n",
      " |  __and__(self, value, /)\n",
      " |      Return self&value.\n",
      " |  \n",
      " |  __bool__(self, /)\n",
      " |      True if self else False\n",
      " |  \n",
      " |  __ceil__(...)\n",
      " |      Ceiling of an Integral returns itself.\n",
      " |  \n",
      " |  __divmod__(self, value, /)\n",
      " |      Return divmod(self, value).\n",
      " |  \n",
      " |  __eq__(self, value, /)\n",
      " |      Return self==value.\n",
      " |  \n",
      " |  __float__(self, /)\n",
      " |      float(self)\n",
      " |  \n",
      " |  __floor__(...)\n",
      " |      Flooring an Integral returns itself.\n",
      " |  \n",
      " |  __floordiv__(self, value, /)\n",
      " |      Return self//value.\n",
      " |  \n",
      " |  __format__(self, format_spec, /)\n",
      " |      Default object formatter.\n",
      " |  \n",
      " |  __ge__(self, value, /)\n",
      " |      Return self>=value.\n",
      " |  \n",
      " |  __getattribute__(self, name, /)\n",
      " |      Return getattr(self, name).\n",
      " |  \n",
      " |  __getnewargs__(self, /)\n",
      " |  \n",
      " |  __gt__(self, value, /)\n",
      " |      Return self>value.\n",
      " |  \n",
      " |  __hash__(self, /)\n",
      " |      Return hash(self).\n",
      " |  \n",
      " |  __index__(self, /)\n",
      " |      Return self converted to an integer, if self is suitable for use as an index into a list.\n",
      " |  \n",
      " |  __int__(self, /)\n",
      " |      int(self)\n",
      " |  \n",
      " |  __invert__(self, /)\n",
      " |      ~self\n",
      " |  \n",
      " |  __le__(self, value, /)\n",
      " |      Return self<=value.\n",
      " |  \n",
      " |  __lshift__(self, value, /)\n",
      " |      Return self<<value.\n",
      " |  \n",
      " |  __lt__(self, value, /)\n",
      " |      Return self<value.\n",
      " |  \n",
      " |  __mod__(self, value, /)\n",
      " |      Return self%value.\n",
      " |  \n",
      " |  __mul__(self, value, /)\n",
      " |      Return self*value.\n",
      " |  \n",
      " |  __ne__(self, value, /)\n",
      " |      Return self!=value.\n",
      " |  \n",
      " |  __neg__(self, /)\n",
      " |      -self\n",
      " |  \n",
      " |  __or__(self, value, /)\n",
      " |      Return self|value.\n",
      " |  \n",
      " |  __pos__(self, /)\n",
      " |      +self\n",
      " |  \n",
      " |  __pow__(self, value, mod=None, /)\n",
      " |      Return pow(self, value, mod).\n",
      " |  \n",
      " |  __radd__(self, value, /)\n",
      " |      Return value+self.\n",
      " |  \n",
      " |  __rand__(self, value, /)\n",
      " |      Return value&self.\n",
      " |  \n",
      " |  __rdivmod__(self, value, /)\n",
      " |      Return divmod(value, self).\n",
      " |  \n",
      " |  __repr__(self, /)\n",
      " |      Return repr(self).\n",
      " |  \n",
      " |  __rfloordiv__(self, value, /)\n",
      " |      Return value//self.\n",
      " |  \n",
      " |  __rlshift__(self, value, /)\n",
      " |      Return value<<self.\n",
      " |  \n",
      " |  __rmod__(self, value, /)\n",
      " |      Return value%self.\n",
      " |  \n",
      " |  __rmul__(self, value, /)\n",
      " |      Return value*self.\n",
      " |  \n",
      " |  __ror__(self, value, /)\n",
      " |      Return value|self.\n",
      " |  \n",
      " |  __round__(...)\n",
      " |      Rounding an Integral returns itself.\n",
      " |      \n",
      " |      Rounding with an ndigits argument also returns an integer.\n",
      " |  \n",
      " |  __rpow__(self, value, mod=None, /)\n",
      " |      Return pow(value, self, mod).\n",
      " |  \n",
      " |  __rrshift__(self, value, /)\n",
      " |      Return value>>self.\n",
      " |  \n",
      " |  __rshift__(self, value, /)\n",
      " |      Return self>>value.\n",
      " |  \n",
      " |  __rsub__(self, value, /)\n",
      " |      Return value-self.\n",
      " |  \n",
      " |  __rtruediv__(self, value, /)\n",
      " |      Return value/self.\n",
      " |  \n",
      " |  __rxor__(self, value, /)\n",
      " |      Return value^self.\n",
      " |  \n",
      " |  __sizeof__(self, /)\n",
      " |      Returns size in memory, in bytes.\n",
      " |  \n",
      " |  __sub__(self, value, /)\n",
      " |      Return self-value.\n",
      " |  \n",
      " |  __truediv__(self, value, /)\n",
      " |      Return self/value.\n",
      " |  \n",
      " |  __trunc__(...)\n",
      " |      Truncating an Integral returns itself.\n",
      " |  \n",
      " |  __xor__(self, value, /)\n",
      " |      Return self^value.\n",
      " |  \n",
      " |  as_integer_ratio(self, /)\n",
      " |      Return integer ratio.\n",
      " |      \n",
      " |      Return a pair of integers, whose ratio is exactly equal to the original int\n",
      " |      and with a positive denominator.\n",
      " |      \n",
      " |      >>> (10).as_integer_ratio()\n",
      " |      (10, 1)\n",
      " |      >>> (-10).as_integer_ratio()\n",
      " |      (-10, 1)\n",
      " |      >>> (0).as_integer_ratio()\n",
      " |      (0, 1)\n",
      " |  \n",
      " |  bit_count(self, /)\n",
      " |      Number of ones in the binary representation of the absolute value of self.\n",
      " |      \n",
      " |      Also known as the population count.\n",
      " |      \n",
      " |      >>> bin(13)\n",
      " |      '0b1101'\n",
      " |      >>> (13).bit_count()\n",
      " |      3\n",
      " |  \n",
      " |  bit_length(self, /)\n",
      " |      Number of bits necessary to represent self in binary.\n",
      " |      \n",
      " |      >>> bin(37)\n",
      " |      '0b100101'\n",
      " |      >>> (37).bit_length()\n",
      " |      6\n",
      " |  \n",
      " |  conjugate(...)\n",
      " |      Returns self, the complex conjugate of any int.\n",
      " |  \n",
      " |  to_bytes(self, /, length=1, byteorder='big', *, signed=False)\n",
      " |      Return an array of bytes representing an integer.\n",
      " |      \n",
      " |      length\n",
      " |        Length of bytes object to use.  An OverflowError is raised if the\n",
      " |        integer is not representable with the given number of bytes.  Default\n",
      " |        is length 1.\n",
      " |      byteorder\n",
      " |        The byte order used to represent the integer.  If byteorder is 'big',\n",
      " |        the most significant byte is at the beginning of the byte array.  If\n",
      " |        byteorder is 'little', the most significant byte is at the end of the\n",
      " |        byte array.  To request the native byte order of the host system, use\n",
      " |        `sys.byteorder' as the byte order value.  Default is to use 'big'.\n",
      " |      signed\n",
      " |        Determines whether two's complement is used to represent the integer.\n",
      " |        If signed is False and a negative integer is given, an OverflowError\n",
      " |        is raised.\n",
      " |  \n",
      " |  ----------------------------------------------------------------------\n",
      " |  Class methods defined here:\n",
      " |  \n",
      " |  from_bytes(bytes, byteorder='big', *, signed=False) from builtins.type\n",
      " |      Return the integer represented by the given array of bytes.\n",
      " |      \n",
      " |      bytes\n",
      " |        Holds the array of bytes to convert.  The argument must either\n",
      " |        support the buffer protocol or be an iterable object producing bytes.\n",
      " |        Bytes and bytearray are examples of built-in objects that support the\n",
      " |        buffer protocol.\n",
      " |      byteorder\n",
      " |        The byte order used to represent the integer.  If byteorder is 'big',\n",
      " |        the most significant byte is at the beginning of the byte array.  If\n",
      " |        byteorder is 'little', the most significant byte is at the end of the\n",
      " |        byte array.  To request the native byte order of the host system, use\n",
      " |        `sys.byteorder' as the byte order value.  Default is to use 'big'.\n",
      " |      signed\n",
      " |        Indicates whether two's complement is used to represent the integer.\n",
      " |  \n",
      " |  ----------------------------------------------------------------------\n",
      " |  Static methods defined here:\n",
      " |  \n",
      " |  __new__(*args, **kwargs) from builtins.type\n",
      " |      Create and return a new object.  See help(type) for accurate signature.\n",
      " |  \n",
      " |  ----------------------------------------------------------------------\n",
      " |  Data descriptors defined here:\n",
      " |  \n",
      " |  denominator\n",
      " |      the denominator of a rational number in lowest terms\n",
      " |  \n",
      " |  imag\n",
      " |      the imaginary part of a complex number\n",
      " |  \n",
      " |  numerator\n",
      " |      the numerator of a rational number in lowest terms\n",
      " |  \n",
      " |  real\n",
      " |      the real part of a complex number\n",
      "\n"
     ]
    }
   ],
   "source": [
    "help(0)"
   ]
  },
  {
   "cell_type": "markdown",
   "id": "579b26f0",
   "metadata": {
    "slideshow": {
     "slide_type": "fragment"
    }
   },
   "source": [
    "* Most modern programming languages are structured this way: The \"things\" in the program are objects, and most of the code in the program consists of methods that use the data stored in those objects"
   ]
  },
  {
   "cell_type": "markdown",
   "id": "14d96a1b",
   "metadata": {
    "slideshow": {
     "slide_type": "subslide"
    }
   },
   "source": [
    "### What Are Those Underscores? (Optional)<br>\n",
    "* Any method (or other name) beginning and ending with two underscores is considered special by Python\n",
    "* The help documentation for strings shows these methods, among many others\n",
    "  \n",
    "        | Methods defined here:\n",
    "        |\n",
    "        | __add__(...)\n",
    "        | x.__add__(y) <==> x+y\n",
    "  \n",
    "* These methods are typically connected with some other syntax in Python: Use of that syntax will trigger a method call"
   ]
  },
  {
   "cell_type": "code",
   "execution_count": 27,
   "id": "6c95d756",
   "metadata": {
    "slideshow": {
     "slide_type": "fragment"
    }
   },
   "outputs": [
    {
     "name": "stdout",
     "output_type": "stream",
     "text": [
      "TTAGGG\n",
      "TTAGGG\n"
     ]
    }
   ],
   "source": [
    "print('TTA' + 'GGG')\n",
    "print('TTA'.__add__('GGG'))"
   ]
  },
  {
   "cell_type": "markdown",
   "id": "16a9d729",
   "metadata": {
    "slideshow": {
     "slide_type": "subslide"
    }
   },
   "source": [
    "* Programmers $\\rm\\color{magenta}{almost\\space never}$ call these special methods directly\n",
    "* It is eye-opening to see this and may help us to understand how Python works"
   ]
  },
  {
   "cell_type": "markdown",
   "id": "4f3752e3",
   "metadata": {
    "slideshow": {
     "slide_type": "subslide"
    }
   },
   "source": [
    "* Integers and floating-point numbers have similar features\n",
    "  \n",
    "        Help on class int in module builtins:\n",
    "        class int(object)\n",
    "        ...\n",
    "        | Methods defined here:\n",
    "        |\n",
    "        | __abs__(...)\n",
    "        | x.__abs__() <==> abs(x)\n",
    "        |\n",
    "        | __add__(...)\n",
    "        | x.__add__(y) <==> x+y\n",
    "        |\n",
    "        | __gt__(...)\n",
    "        | x.__gt__(y) <==> x>y\n",
    "  \n",
    "* The documentation describes when these are called\n",
    "* Here we show both versions of getting the absolute value of a number"
   ]
  },
  {
   "cell_type": "code",
   "execution_count": 28,
   "id": "c397bdf0",
   "metadata": {
    "slideshow": {
     "slide_type": "subslide"
    }
   },
   "outputs": [
    {
     "name": "stdout",
     "output_type": "stream",
     "text": [
      "3\n",
      "-3\n"
     ]
    }
   ],
   "source": [
    "print(abs(-3))\n",
    "print(-3.__abs__())"
   ]
  },
  {
   "cell_type": "markdown",
   "id": "dc6983d1",
   "metadata": {
    "slideshow": {
     "slide_type": "fragment"
    }
   },
   "source": [
    "* We need to put a space after $-3$ in the second instance (with the underscores) so that Python does not think we are making a floating-point number $-3.$ (remember that we can leave off the trailing $0$)"
   ]
  },
  {
   "cell_type": "code",
   "execution_count": null,
   "id": "d4faeb9b",
   "metadata": {
    "slideshow": {
     "slide_type": "subslide"
    }
   },
   "outputs": [],
   "source": [
    "print(3 + 5)\n",
    "print(3 .__add__(5))"
   ]
  },
  {
   "cell_type": "code",
   "execution_count": null,
   "id": "7bebc8cd",
   "metadata": {
    "slideshow": {
     "slide_type": "fragment"
    }
   },
   "outputs": [],
   "source": [
    "print(3 > 5)\n",
    "print(3 .__gt__(5))\n",
    "print(5 > 3)\n",
    "print(5 .__gt__(3))"
   ]
  },
  {
   "cell_type": "markdown",
   "id": "bc18e547",
   "metadata": {
    "slideshow": {
     "slide_type": "fragment"
    }
   },
   "source": [
    "* Again, programmers do not typically do this, but it is worth knowing that Python uses methods to handle all of these operators"
   ]
  },
  {
   "cell_type": "markdown",
   "id": "37510ccf",
   "metadata": {
    "slideshow": {
     "slide_type": "subslide"
    }
   },
   "source": [
    "* Function objects, like other objects, contain double-underscore variables\n",
    "* For example, the documentation for each function is stored in a variable called $\\rm\\color{orange}{\\_\\_doc\\_\\_}$"
   ]
  },
  {
   "cell_type": "code",
   "execution_count": null,
   "id": "9ce7d130",
   "metadata": {
    "slideshow": {
     "slide_type": "fragment"
    }
   },
   "outputs": [],
   "source": [
    "print(abs.__doc__)"
   ]
  },
  {
   "cell_type": "markdown",
   "id": "34c02e3e",
   "metadata": {
    "slideshow": {
     "slide_type": "subslide"
    }
   },
   "source": [
    "* It looks just like the output from calling built-in function help on *abs*"
   ]
  },
  {
   "cell_type": "code",
   "execution_count": null,
   "id": "a0ccfcbe",
   "metadata": {
    "slideshow": {
     "slide_type": "fragment"
    }
   },
   "outputs": [],
   "source": [
    "help(abs)"
   ]
  },
  {
   "cell_type": "markdown",
   "id": "65757f00",
   "metadata": {
    "slideshow": {
     "slide_type": "fragment"
    }
   },
   "source": [
    "* Every function object keeps track of its docstring in a special variable called $\\rm\\color{orange}{\\_\\_doc\\_\\_}$"
   ]
  }
 ],
 "metadata": {
  "kernelspec": {
   "display_name": "Python 3 (ipykernel)",
   "language": "python",
   "name": "python3"
  },
  "language_info": {
   "codemirror_mode": {
    "name": "ipython",
    "version": 3
   },
   "file_extension": ".py",
   "mimetype": "text/x-python",
   "name": "python",
   "nbconvert_exporter": "python",
   "pygments_lexer": "ipython3",
   "version": "3.11.5"
  }
 },
 "nbformat": 4,
 "nbformat_minor": 5
}
